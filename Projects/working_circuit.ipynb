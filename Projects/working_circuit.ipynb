{
 "cells": [
  {
   "cell_type": "code",
   "execution_count": 1,
   "metadata": {
    "collapsed": true
   },
   "outputs": [],
   "source": [
    "import matplotlib.pyplot as plt\n",
    "import numpy as np\n",
    "import time\n",
    "\n",
    "import qiskit\n",
    "import qiskit.quantum_info as qi\n",
    "# Tomography functions\n",
    "from qiskit.providers.aer.noise import NoiseModel\n",
    "from qiskit.ignis.verification.tomography import state_tomography_circuits, StateTomographyFitter\n",
    "from qiskit.quantum_info import DensityMatrix\n",
    "\n",
    "from qiskit import *\n",
    "from qiskit import QuantumCircuit, transpile, Aer, IBMQ\n",
    "from qiskit.visualization import *\n",
    "\n",
    "# Loading your IBM Quantum account(s)\n",
    "IBMQ.save_account(\n",
    "    '280beccbee94456a161a6cbc217e1366bc278bf60e22bd30281fa0ca5bec6e50897278ef818f3c53f6700e04b9ed32ea364195044413b7e02836a79d886b03d9',\n",
    "    overwrite=True)\n",
    "IBMQ.load_account()\n",
    "provider = IBMQ.get_provider(hub='ibm-q-research')"
   ]
  },
  {
   "cell_type": "code",
   "execution_count": 2,
   "outputs": [
    {
     "data": {
      "text/plain": "<Figure size 400.578x204.68 with 1 Axes>",
      "image/png": "[encoded data removed]"
     },
     "execution_count": 2,
     "metadata": {},
     "output_type": "execute_result"
    }
   ],
   "source": [
    "from qiskit.circuit.library.standard_gates import CRZGate\n",
    "qr = QuantumRegister(3)\n",
    "circuit = QuantumCircuit(qr)\n",
    "circuit.cnot(0,2)\n",
    "circuit.sdg(1)\n",
    "circuit.cswap(2,1,0)\n",
    "circuit.crz(5.03,2,0)\n",
    "circuit.t(1)\n",
    "\n",
    "circuit.draw(output='mpl')"
   ],
   "metadata": {
    "collapsed": false,
    "pycharm": {
     "name": "#%%\n"
    }
   }
  },
  {
   "cell_type": "code",
   "execution_count": 3,
   "outputs": [
    {
     "name": "stderr",
     "output_type": "stream",
     "text": [
      "c:\\python-interpreters\\lib\\site-packages\\qiskit\\ignis\\verification\\tomography\\basis\\circuits.py:468: DeprecationWarning: The QuantumCircuit.__iadd__() method is being deprecated. Use the compose() (potentially with the inplace=True argument) and tensor() methods which are more flexible w.r.t circuit register compatibility.\n",
      "  prep += circuit\n",
      "c:\\python-interpreters\\lib\\site-packages\\qiskit\\circuit\\quantumcircuit.py:942: DeprecationWarning: The QuantumCircuit.extend() method is being deprecated. Use the compose() (potentially with the inplace=True argument) and tensor() methods which are more flexible w.r.t circuit register compatibility.\n",
      "  return self.extend(rhs)\n",
      "c:\\python-interpreters\\lib\\site-packages\\qiskit\\ignis\\verification\\tomography\\basis\\circuits.py:478: DeprecationWarning: The QuantumCircuit.__add__() method is being deprecated.Use the compose() method which is more flexible w.r.t circuit register compatibility.\n",
      "  circ = prep + meas\n",
      "c:\\python-interpreters\\lib\\site-packages\\qiskit\\circuit\\quantumcircuit.py:933: DeprecationWarning: The QuantumCircuit.combine() method is being deprecated. Use the compose() method which is more flexible w.r.t circuit register compatibility.\n",
      "  return self.combine(rhs)\n"
     ]
    }
   ],
   "source": [
    "vector = qi.Statevector.from_instruction(circuit)\n",
    "tomo_circuit = state_tomography_circuits(circuit, circuit.qubits);"
   ],
   "metadata": {
    "collapsed": false,
    "pycharm": {
     "name": "#%%\n"
    }
   }
  },
  {
   "cell_type": "raw",
   "source": [
    "#Real\n",
    "from qiskit.tools import job_monitor\n",
    "import utility\n",
    "name = 'ibmq_jakarta'\n",
    "backend = provider.get_backend(name)\n",
    "full_layout = [0,1,3,5,4,2,6]\n",
    "\n",
    "layout = full_layout[:tomo_circuit[0].num_qubits]\n",
    "job = qiskit.execute(tomo_circuit, backend,initial_layout=layout,shots=8000)\n",
    "job_monitor(job)\n",
    "utility.save_job(job,\"Jakarta_fidelity_to_qubits_working_circuit\")\n",
    "result = job.result()"
   ],
   "metadata": {
    "collapsed": false,
    "pycharm": {
     "name": "#%% raw\n"
    }
   }
  },
  {
   "cell_type": "code",
   "source": [
    "import utility\n",
    "result = utility.retrieve(\"Jakarta_fidelity_to_qubits_working_circuit\").result()"
   ],
   "metadata": {
    "collapsed": false,
    "pycharm": {
     "name": "#%%\n"
    }
   },
   "execution_count": 4,
   "outputs": [
    {
     "name": "stderr",
     "output_type": "stream",
     "text": [
      "c:\\python-interpreters\\lib\\site-packages\\qiskit\\aqua\\__init__.py:86: DeprecationWarning: The package qiskit.aqua is deprecated. It was moved/refactored to qiskit-terra For more information see <https://github.com/Qiskit/qiskit-aqua/blob/main/README.md#migration-guide>\n",
      "  warn_package('aqua', 'qiskit-terra')\n"
     ]
    },
    {
     "name": "stdout",
     "output_type": "stream",
     "text": [
      "Retrieved from memory\n"
     ]
    }
   ]
  },
  {
   "cell_type": "code",
   "execution_count": 5,
   "outputs": [
    {
     "name": "stdout",
     "output_type": "stream",
     "text": [
      "(0.625141145518565+3.196841504610673e-20j) 0.5583436968592849\n"
     ]
    }
   ],
   "source": [
    "from Tomography import tomography\n",
    "\n",
    "tomo_fitter_bell = StateTomographyFitter(result, tomo_circuit).fit(method='lstsq')\n",
    "densitie = DensityMatrix(tomo_fitter_bell)\n",
    "fidelity = tomography.calc_fidelity(DensityMatrix(tomo_fitter_bell), vector)\n",
    "purity = tomography.calc_purity(DensityMatrix(tomo_fitter_bell))\n",
    "\n",
    "print(purity,fidelity)"
   ],
   "metadata": {
    "collapsed": false,
    "pycharm": {
     "name": "#%%\n"
    }
   }
  },
  {
   "cell_type": "code",
   "execution_count": 6,
   "outputs": [
    {
     "name": "stdout",
     "output_type": "stream",
     "text": [
      "Number of qubits:  3\n",
      "Vector dot:  0.9508824574062984\n",
      "Eigenvalue (0.783300465718823-2.0217072666561106e-18j)\n",
      "Purity:  0.625141145518565\n",
      "Fidelity:  0.5583436968592849\n",
      "___\n",
      "Fixed purity:  0.5652385254716455\n",
      "_____________\n"
     ]
    }
   ],
   "source": [
    "from numpy.linalg import linalg\n",
    "\n",
    "fixed_purities = 0\n",
    "\n",
    "# Extracting the density matrix from the state tomography result\n",
    "state_vector = qi.Statevector.from_instruction(circuit)\n",
    "theo_matrix = DensityMatrix(state_vector)\n",
    "theo_eig = linalg.eig(theo_matrix.data)\n",
    "theo_eig = (theo_eig[0], theo_eig[1].T)\n",
    "\n",
    "# Getting the most significant eigenvalue and eigenvector\n",
    "max_val_theo = 0\n",
    "index = 0\n",
    "i = 0\n",
    "for val in theo_eig[0]:\n",
    "    if np.absolute(val) > np.absolute(max_val_theo):\n",
    "        index = i\n",
    "        max_val_theo = val\n",
    "    i += 1\n",
    "theo_vector = theo_eig[1][index]\n",
    "\n",
    "# Real Vector\n",
    "real_matrix = densitie\n",
    "real_eig = np.linalg.eig(real_matrix)\n",
    "real_eig = (real_eig[0], real_eig[1].T)\n",
    "\n",
    "# Getting the most significant eigenvalue and eigenvector\n",
    "max_val_real = 0\n",
    "index = 0\n",
    "i = 0\n",
    "for val in real_eig[0]:\n",
    "    if np.absolute(val) > np.absolute(max_val_real):\n",
    "        index = i\n",
    "        max_val_real = val\n",
    "    i += 1\n",
    "real_vector = real_eig[1][index]\n",
    "real_eignval = real_eig[0][index]\n",
    "\n",
    "\n",
    "dot = np.abs(np.dot(theo_vector, real_vector))**2\n",
    "print(\"Number of qubits: \", 3)\n",
    "print(\"Vector dot: \", dot)\n",
    "print(\"Eigenvalue\", real_eignval)\n",
    "print(\"Purity: \", np.absolute(purity))\n",
    "print(\"Fidelity: \", np.absolute(fidelity))\n",
    "\n",
    "print(\"___\")\n",
    "fixed_purity = np.absolute(purity) * (dot**2)\n",
    "print(\"Fixed purity: \", fixed_purity)\n",
    "print(\"_____________\")"
   ],
   "metadata": {
    "collapsed": false,
    "pycharm": {
     "name": "#%%\n"
    }
   }
  },
  {
   "cell_type": "code",
   "execution_count": 7,
   "outputs": [
    {
     "data": {
      "text/plain": "<IPython.core.display.Latex object>",
      "text/latex": "$$\n\n\\begin{bmatrix}\n0.74722 & 0.0123 - 0.01738i & 0.08403 - 0.03884i & 0.10603 + 0.0449i & -0.026 + 0.04302i & -0.00297 - 0.00345i & -0.002 - 0.00806i & -0.00543 - 0.01783i  \\\\\n 0.0123 + 0.01738i & 0.02963 & -0.02457 - 0.00525i & -0.0039 - 0.00393i & -0.0045 - 0.00517i & -0.00276 + 0.00252i & 0.00379 - 0.00384i & 0.00312 - 0.00277i  \\\\\n 0.08403 + 0.03884i & -0.02457 + 0.00525i & 0.05102 & 0.00767 + 0.01261i & 0.00001 + 0.00689i & 0.0046 + 0.00322i & 0.00527 - 0.00386i & 0.00235 + 0.00007i  \\\\\n 0.10603 - 0.0449i & -0.0039 + 0.00393i & 0.00767 - 0.01261i & 0.08882 & 0.00631 + 0.00852i & 0.00049 + 0.00183i & 0.00198 - 0.00523i & -0.00271 - 0.00144i  \\\\\n -0.026 - 0.04302i & -0.0045 + 0.00517i & 0.00001 - 0.00689i & 0.00631 - 0.00852i & 0.03291 & -0.00068 + 0.0008i & 0.00126 + 0.00123i & 0.00382 + 0.00605i  \\\\\n -0.00297 + 0.00345i & -0.00276 - 0.00252i & 0.0046 - 0.00322i & 0.00049 - 0.00183i & -0.00068 - 0.0008i & 0.01008 & 0.00098 - 0.00701i & -0.00008 + 0.00079i  \\\\\n -0.002 + 0.00806i & 0.00379 + 0.00384i & 0.00527 + 0.00386i & 0.00198 + 0.00523i & 0.00126 - 0.00123i & 0.00098 + 0.00701i & 0.02941 & -0.00235 + 0.00035i  \\\\\n -0.00543 + 0.01783i & 0.00312 + 0.00277i & 0.00235 - 0.00007i & -0.00271 + 0.00144i & 0.00382 - 0.00605i & -0.00008 - 0.00079i & -0.00235 - 0.00035i & 0.01091  \\\\\n \\end{bmatrix}\n$$"
     },
     "execution_count": 7,
     "metadata": {},
     "output_type": "execute_result"
    }
   ],
   "source": [
    "densitie.draw('latex')"
   ],
   "metadata": {
    "collapsed": false,
    "pycharm": {
     "name": "#%%\n"
    }
   }
  },
  {
   "cell_type": "code",
   "execution_count": 8,
   "outputs": [
    {
     "data": {
      "text/plain": "<IPython.core.display.Latex object>",
      "text/latex": "$$\n\n\\begin{bmatrix}\n1 & 0 & 0 & 0 & 0 & 0 & 0 & 0  \\\\\n 0 & 0 & 0 & 0 & 0 & 0 & 0 & 0  \\\\\n 0 & 0 & 0 & 0 & 0 & 0 & 0 & 0  \\\\\n 0 & 0 & 0 & 0 & 0 & 0 & 0 & 0  \\\\\n 0 & 0 & 0 & 0 & 0 & 0 & 0 & 0  \\\\\n 0 & 0 & 0 & 0 & 0 & 0 & 0 & 0  \\\\\n 0 & 0 & 0 & 0 & 0 & 0 & 0 & 0  \\\\\n 0 & 0 & 0 & 0 & 0 & 0 & 0 & 0  \\\\\n \\end{bmatrix}\n$$"
     },
     "execution_count": 8,
     "metadata": {},
     "output_type": "execute_result"
    }
   ],
   "source": [
    "theo_matrix.draw('latex')"
   ],
   "metadata": {
    "collapsed": false,
    "pycharm": {
     "name": "#%%\n"
    }
   }
  },
  {
   "cell_type": "code",
   "execution_count": 9,
   "outputs": [
    {
     "name": "stdout",
     "output_type": "stream",
     "text": [
      "Closseness:  (0.07743448256778075+0j)\n"
     ]
    }
   ],
   "source": [
    "sum = 0\n",
    "for i, j in zip(range(densitie.dim),range(densitie.dim)):\n",
    "    sum += (densitie.data[i,j] - theo_matrix.data[i,j])**2\n",
    "\n",
    "print(\"Closseness: \", sum)"
   ],
   "metadata": {
    "collapsed": false,
    "pycharm": {
     "name": "#%%\n"
    }
   }
  }
 ],
 "metadata": {
  "kernelspec": {
   "display_name": "Python 3",
   "language": "python",
   "name": "python3"
  },
  "language_info": {
   "codemirror_mode": {
    "name": "ipython",
    "version": 2
   },
   "file_extension": ".py",
   "mimetype": "text/x-python",
   "name": "python",
   "nbconvert_exporter": "python",
   "pygments_lexer": "ipython2",
   "version": "2.7.6"
  }
 },
 "nbformat": 4,
 "nbformat_minor": 0
}