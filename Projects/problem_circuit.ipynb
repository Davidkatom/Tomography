{
 "cells": [
  {
   "cell_type": "code",
   "execution_count": 17,
   "metadata": {
    "collapsed": true
   },
   "outputs": [
    {
     "name": "stderr",
     "output_type": "stream",
     "text": [
      "ibmqfactory.load_account:WARNING:2021-12-15 14:52:59,599: Credentials are already in use. The existing account in the session will be replaced.\n"
     ]
    }
   ],
   "source": [
    "import matplotlib.pyplot as plt\n",
    "import numpy as np\n",
    "import time\n",
    "\n",
    "import qiskit\n",
    "import qiskit as qiskit\n",
    "import qiskit.quantum_info as qi\n",
    "# Tomography functions\n",
    "from qiskit.providers.aer.noise import NoiseModel\n",
    "from qiskit.ignis.verification.tomography import state_tomography_circuits, StateTomographyFitter\n",
    "from qiskit.quantum_info import DensityMatrix\n",
    "\n",
    "from qiskit import *\n",
    "from qiskit import QuantumCircuit, transpile, Aer, IBMQ\n",
    "from qiskit.visualization import *\n",
    "\n",
    "# Loading your IBM Quantum account(s)\n",
    "IBMQ.save_account(\n",
    "    '280beccbee94456a161a6cbc217e1366bc278bf60e22bd30281fa0ca5bec6e50897278ef818f3c53f6700e04b9ed32ea364195044413b7e02836a79d886b03d9',\n",
    "    overwrite=True)\n",
    "IBMQ.load_account()\n",
    "provider = IBMQ.get_provider(hub='ibm-q-research')"
   ]
  },
  {
   "cell_type": "code",
   "execution_count": 18,
   "outputs": [
    {
     "data": {
      "text/plain": "<Figure size 413.995x204.68 with 1 Axes>",
      "image/png": "[encoded data removed]"
     },
     "execution_count": 18,
     "metadata": {},
     "output_type": "execute_result"
    }
   ],
   "source": [
    "from qiskit.circuit.library.standard_gates import CRZGate\n",
    "qr = QuantumRegister(3)\n",
    "circuit = QuantumCircuit(qr)\n",
    "circuit.rx(1.19, 0)\n",
    "circuit.x(1)\n",
    "circuit.sdg(2)\n",
    "circuit.x(1)\n",
    "circuit.crz(4.96,2,0)\n",
    "circuit.swap(0,1)\n",
    "circuit.u3(3.33,2.8,3.72,2)\n",
    "circuit.draw(output='mpl')"
   ],
   "metadata": {
    "collapsed": false,
    "pycharm": {
     "name": "#%%\n"
    }
   }
  },
  {
   "cell_type": "code",
   "execution_count": 1,
   "outputs": [
    {
     "ename": "NameError",
     "evalue": "name 'qi' is not defined",
     "output_type": "error",
     "traceback": [
      "\u001B[1;31m---------------------------------------------------------------------------\u001B[0m",
      "\u001B[1;31mNameError\u001B[0m                                 Traceback (most recent call last)",
      "\u001B[1;32m~\\AppData\\Local\\Temp/ipykernel_23416/2821170061.py\u001B[0m in \u001B[0;36m<module>\u001B[1;34m\u001B[0m\n\u001B[1;32m----> 1\u001B[1;33m \u001B[0mvector\u001B[0m \u001B[1;33m=\u001B[0m \u001B[0mqi\u001B[0m\u001B[1;33m.\u001B[0m\u001B[0mStatevector\u001B[0m\u001B[1;33m.\u001B[0m\u001B[0mfrom_instruction\u001B[0m\u001B[1;33m(\u001B[0m\u001B[0mcircuit\u001B[0m\u001B[1;33m)\u001B[0m\u001B[1;33m\u001B[0m\u001B[1;33m\u001B[0m\u001B[0m\n\u001B[0m\u001B[0;32m      2\u001B[0m \u001B[0mtomo_circuit\u001B[0m \u001B[1;33m=\u001B[0m \u001B[0mstate_tomography_circuits\u001B[0m\u001B[1;33m(\u001B[0m\u001B[0mQuantumCircuit\u001B[0m\u001B[1;33m(\u001B[0m\u001B[0mcircuit\u001B[0m\u001B[1;33m)\u001B[0m\u001B[1;33m,\u001B[0m \u001B[0mQuantumCircuit\u001B[0m\u001B[1;33m(\u001B[0m\u001B[0mcircuit\u001B[0m\u001B[1;33m)\u001B[0m\u001B[1;33m.\u001B[0m\u001B[0mqubits\u001B[0m\u001B[1;33m)\u001B[0m\u001B[1;33m;\u001B[0m\u001B[1;33m\u001B[0m\u001B[1;33m\u001B[0m\u001B[0m\n",
      "\u001B[1;31mNameError\u001B[0m: name 'qi' is not defined"
     ]
    }
   ],
   "source": [
    "vector = qi.Statevector.from_instruction(circuit)\n",
    "tomo_circuit = state_tomography_circuits(circuit, circuit.qubits);"
   ],
   "metadata": {
    "collapsed": false,
    "pycharm": {
     "name": "#%%\n"
    }
   }
  },
  {
   "cell_type": "raw",
   "source": [
    "#Real\n",
    "from qiskit.tools import job_monitor\n",
    "import utility\n",
    "name = 'ibmq_jakarta'\n",
    "backend = provider.get_backend(name)\n",
    "full_layout = [0,1,3,5,4,2,6]\n",
    "\n",
    "layout = full_layout[:tomo_circuit[0].num_qubits]\n",
    "job = qiskit.execute(tomo_circuit, backend,initial_layout=layout,shots=8000)\n",
    "job_monitor(job)\n",
    "utility.save_job(job,\"Jakarta_fidelity_to_qubits_problem_circuit\")\n",
    "result = job.result()"
   ],
   "metadata": {
    "collapsed": false,
    "pycharm": {
     "name": "#%% raw\n"
    }
   }
  },
  {
   "cell_type": "code",
   "execution_count": 26,
   "outputs": [],
   "source": [
    "#Simulator\n",
    "name = 'ibmq_jakarta'\n",
    "results = []\n",
    "backend = provider.get_backend(name)\n",
    "noise_model = NoiseModel.from_backend(backend)\n",
    "full_layout = [0, 1, 3, 5, 4, 2, 6]\n",
    "# Get coupling map from backend\n",
    "coupling_map = backend.configuration().coupling_map\n",
    "\n",
    "# Get basis gates from noise model\n",
    "basis_gates = noise_model.basis_gates\n",
    "qcomp = Aer.get_backend(\"qasm_simulator\")\n",
    "layout = full_layout[:circuit.num_qubits]\n",
    "result = qiskit.execute(tomo_circuit, Aer.get_backend('qasm_simulator'),\n",
    "                                  coupling_map=coupling_map,\n",
    "                                  basis_gates=basis_gates,\n",
    "                                  noise_model=noise_model, initial_layout=layout, shots=8000).result()\n"
   ],
   "metadata": {
    "collapsed": false,
    "pycharm": {
     "name": "#%%\n"
    }
   }
  },
  {
   "cell_type": "raw",
   "source": [
    "import utility\n",
    "result = utility.retrieve(\"Jakarta_fidelity_to_qubits_problem_circuit\").result()"
   ],
   "metadata": {
    "collapsed": false,
    "pycharm": {
     "name": "#%% raw\n"
    }
   }
  },
  {
   "cell_type": "code",
   "execution_count": 27,
   "outputs": [
    {
     "name": "stdout",
     "output_type": "stream",
     "text": [
      "(0.7897008100844404-2.392789951689929e-19j) 0.7800128834629995\n"
     ]
    }
   ],
   "source": [
    "from Tomography import tomography\n",
    "\n",
    "tomo_fitter_bell = StateTomographyFitter(result, tomo_circuit).fit(method='lstsq')\n",
    "densitie = DensityMatrix(tomo_fitter_bell)\n",
    "fidelity = tomography.calc_fidelity(DensityMatrix(tomo_fitter_bell), vector)\n",
    "purity = tomography.calc_purity(DensityMatrix(tomo_fitter_bell))\n",
    "\n",
    "print(purity,fidelity)"
   ],
   "metadata": {
    "collapsed": false,
    "pycharm": {
     "name": "#%%\n"
    }
   }
  },
  {
   "cell_type": "code",
   "execution_count": 37,
   "outputs": [
    {
     "name": "stdout",
     "output_type": "stream",
     "text": [
      "Number of qubits:  3\n",
      "Vector dot:  0.9972966513449288\n",
      "Eigenvalue (0.8854232926299483-9.256993519542396e-18j)\n",
      "Purity:  0.7897008100844404\n",
      "Fidelity:  0.7800128834629995\n",
      "___\n",
      "Fixed purity:  0.7854369080464528\n",
      "_____________\n"
     ]
    }
   ],
   "source": [
    "from numpy.linalg import linalg\n",
    "\n",
    "fixed_purities = 0\n",
    "\n",
    "# Extracting the density matrix from the state tomography result\n",
    "state_vector = qi.Statevector.from_instruction(circuit)\n",
    "theo_matrix = DensityMatrix(state_vector)\n",
    "theo_eig = linalg.eig(theo_matrix.data)\n",
    "theo_eig = (theo_eig[0], theo_eig[1].T)\n",
    "\n",
    "# Getting the most significant eigenvalue and eigenvector\n",
    "max_val_theo = 0\n",
    "index = 0\n",
    "i = 0\n",
    "for val in theo_eig[0]:\n",
    "    if np.absolute(val) > np.absolute(max_val_theo):\n",
    "        index = i\n",
    "        max_val_theo = val\n",
    "    i += 1\n",
    "theo_vector = theo_eig[1][index]\n",
    "\n",
    "# Real Vector\n",
    "real_matrix = densitie\n",
    "real_eig = np.linalg.eig(real_matrix)\n",
    "real_eig = (real_eig[0], real_eig[1].T)\n",
    "\n",
    "# Getting the most significant eigenvalue and eigenvector\n",
    "max_val_real = 0\n",
    "index = 0\n",
    "i = 0\n",
    "for val in real_eig[0]:\n",
    "    if np.absolute(val) > np.absolute(max_val_real):\n",
    "        index = i\n",
    "        max_val_real = val\n",
    "    i += 1\n",
    "real_vector = real_eig[1][index]\n",
    "real_eignval = real_eig[0][index]\n",
    "\n",
    "\n",
    "dot = np.abs(np.vdot(theo_vector, real_vector))**2\n",
    "print(\"Number of qubits: \", 3)\n",
    "print(\"Vector dot: \", dot)\n",
    "print(\"Eigenvalue\", real_eignval)\n",
    "print(\"Purity: \", np.absolute(purity))\n",
    "print(\"Fidelity: \", np.absolute(fidelity))\n",
    "\n",
    "print(\"___\")\n",
    "fixed_purity = np.absolute(purity) * (dot**2)\n",
    "print(\"Fixed purity: \", fixed_purity)\n",
    "print(\"_____________\")"
   ],
   "metadata": {
    "collapsed": false,
    "pycharm": {
     "name": "#%%\n"
    }
   }
  },
  {
   "cell_type": "code",
   "execution_count": 29,
   "outputs": [
    {
     "data": {
      "text/plain": "<IPython.core.display.Latex object>",
      "text/latex": "$$\n\n\\begin{bmatrix}\n-0.0779 & 0 & 0.05272i & 0 & -0.77684 + 0.27619i & 0 & 0.18693 + 0.52578i & 0  \\\\\n \\end{bmatrix}\n$$"
     },
     "execution_count": 29,
     "metadata": {},
     "output_type": "execute_result"
    }
   ],
   "source": [
    "vector.draw('latex')"
   ],
   "metadata": {
    "collapsed": false,
    "pycharm": {
     "name": "#%%\n"
    }
   }
  },
  {
   "cell_type": "code",
   "execution_count": 36,
   "outputs": [
    {
     "name": "stdout",
     "output_type": "stream",
     "text": [
      "0.8854232926299483 :  [ 0.08071335+0.01412821j -0.00257408-0.00112249j  0.01351707-0.05174036j\n",
      "  0.00254409-0.00535942j  0.84659118+0.j          0.01246096+0.0051408j\n",
      "  0.02354296-0.52234499j  0.00561773-0.00737855j]\n",
      "0.06804620647667578 :  [-0.04505793-0.01769884j  0.0359423 -0.05520721j  0.11685469+0.07291826j\n",
      " -0.01129011-0.0240951j  -0.01634914-0.52304485j  0.0159605 -0.01416181j\n",
      "  0.83555646+0.j          0.03049169+0.01593343j]\n",
      "0.03105031116104431 :  [ 0.85070422+0.j          0.02838857-0.00999623j -0.04104197-0.49456402j\n",
      " -0.02652481-0.0281932j  -0.06092451-0.02472543j  0.02856871+0.01413338j\n",
      "  0.07779162+0.08580186j -0.03857705-0.08590291j]\n",
      "0.010877580522325703 :  [-0.04618759+0.11469959j  0.11388282-0.02439695j -0.19456457+0.06723176j\n",
      " -0.00291338-0.00979864j -0.01610278+0.00287783j  0.8702487 +0.j\n",
      "  0.0073846 -0.01537645j -0.00527184-0.41321554j]\n",
      "0.003542503607312471 :  [ 0.33199653+0.13837709j -0.22025518+0.01527481j -0.28610617+0.53091163j\n",
      " -0.10104122-0.12312124j -0.0301252 +0.00227353j -0.07562726-0.14800359j\n",
      " -0.00328182-0.04854186j  0.63394639+0.j        ]\n",
      "0.0010601056026928466 :  [-0.21373831-0.19688155j  0.28765358+0.04808899j  0.20238937-0.43142601j\n",
      "  0.01528592+0.06786692j  0.02708858+0.02626073j  0.06315147-0.43387875j\n",
      " -0.0280889 +0.05416302j  0.63338938+0.j        ]\n",
      "8.360007915484924e-18 :  [ 0.14561645+0.09668163j  0.88719836+0.j         -0.12530327+0.27132067j\n",
      " -0.07534458+0.21207395j -0.03890947+0.00852008j -0.11942642+0.07661011j\n",
      " -0.02144932-0.0800711j  -0.04819669+0.1069902j ]\n",
      "1.9996175262591177e-18 :  [ 1.09145083e-01-0.06387905j  6.04047216e-02-0.01434877j\n",
      "  5.88772369e-02+0.13149199j  9.76952526e-01+0.j\n",
      " -2.56719121e-02+0.0005702j  -6.69327755e-04+0.01102613j\n",
      " -6.76861815e-03-0.03280421j  4.90045374e-02-0.02558353j]\n"
     ]
    }
   ],
   "source": [
    "for i in range(len(real_eig[0])):\n",
    "    print(np.abs(real_eig[0][i]), \": \", real_eig[1][i])"
   ],
   "metadata": {
    "collapsed": false,
    "pycharm": {
     "name": "#%%\n"
    }
   }
  },
  {
   "cell_type": "code",
   "execution_count": 32,
   "outputs": [
    {
     "data": {
      "text/plain": "<IPython.core.display.Latex object>",
      "text/latex": "$$\n\n\\begin{bmatrix}\n0.02929 & 0.00009 + 0.00005i & -0.00106 + 0.0159i & -0.00073 + 0.0012i & 0.05954 + 0.00962i & 0.00116 + 0.00046i & -0.00541 + 0.03443i & -0.00073 + 0.00284i  \\\\\n 0.00009 - 0.00005i & 0.00074 & 0.00018 + 0.00021i & 0.00013 + 0.00001i & -0.00004 + 0.00053i & 0.00121 - 0.00026i & 0.00256 - 0.00449i & -0.0002 + 0.00049i  \\\\\n -0.00106 - 0.0159i & 0.00018 - 0.00021i & 0.01346 & 0.00038 + 0.0001i & 0.00793 - 0.03388i & -0.00211 - 0.00045i & 0.02929 + 0.00815i & 0.0013 + 0.00036i  \\\\\n -0.00073 - 0.0012i & 0.00013 - 0.00001i & 0.00038 - 0.0001i & 0.00022 & 0.00286 - 0.00434i & 0.00001 - 0.00022i & 0.00178 - 0.00032i & -0.00007 - 0.00033i  \\\\\n 0.05954 - 0.00962i & -0.00004 - 0.00053i & 0.00793 + 0.03388i & 0.00286 + 0.00434i & 0.65337 & 0.00961 - 0.00441i & 0.0165 + 0.3619i & 0.00369 + 0.00428i  \\\\\n 0.00116 - 0.00046i & 0.00121 + 0.00026i & -0.00211 + 0.00045i & 0.00001 + 0.00022i & 0.00961 + 0.00441i & 0.00876 & -0.00103 + 0.00517i & -0.0002 + 0.00341i  \\\\\n -0.00541 - 0.03443i & 0.00256 + 0.00449i & 0.02929 - 0.00815i & 0.00178 + 0.00032i & 0.0165 - 0.3619i & -0.00103 - 0.00517i & 0.29001 & 0.00498 - 0.00328i  \\\\\n -0.00073 - 0.00284i & -0.0002 - 0.00049i & 0.0013 - 0.00036i & -0.00007 + 0.00033i & 0.00369 - 0.00428i & -0.0002 - 0.00341i & 0.00498 + 0.00328i & 0.00414  \\\\\n \\end{bmatrix}\n$$"
     },
     "execution_count": 32,
     "metadata": {},
     "output_type": "execute_result"
    }
   ],
   "source": [
    "densitie.draw('latex')"
   ],
   "metadata": {
    "collapsed": false,
    "pycharm": {
     "name": "#%%\n"
    }
   }
  },
  {
   "cell_type": "code",
   "execution_count": 33,
   "outputs": [
    {
     "data": {
      "text/plain": "<IPython.core.display.Latex object>",
      "text/latex": "$$\n\n\\begin{bmatrix}\n0.00607 & 0 & 0.00411i & 0 & 0.06052 + 0.02151i & 0 & -0.01456 + 0.04096i & 0  \\\\\n 0 & 0 & 0 & 0 & 0 & 0 & 0 & 0  \\\\\n -0.00411i & 0 & 0.00278 & 0 & 0.01456 - 0.04096i & 0 & 0.02772 + 0.00986i & 0  \\\\\n 0 & 0 & 0 & 0 & 0 & 0 & 0 & 0  \\\\\n 0.06052 - 0.02151i & 0 & 0.01456 + 0.04096i & 0 & 0.67976 & 0 & 0.46008i & 0  \\\\\n 0 & 0 & 0 & 0 & 0 & 0 & 0 & 0  \\\\\n -0.01456 - 0.04096i & 0 & 0.02772 - 0.00986i & 0 & -0.46008i & 0 & 0.31139 & 0  \\\\\n 0 & 0 & 0 & 0 & 0 & 0 & 0 & 0  \\\\\n \\end{bmatrix}\n$$"
     },
     "execution_count": 33,
     "metadata": {},
     "output_type": "execute_result"
    }
   ],
   "source": [
    "theo_matrix.draw('latex')"
   ],
   "metadata": {
    "collapsed": false,
    "pycharm": {
     "name": "#%%\n"
    }
   }
  },
  {
   "cell_type": "code",
   "execution_count": null,
   "outputs": [],
   "source": [
    "sum = 0\n",
    "for i, j in zip(range(densitie.dim),range(densitie.dim)):\n",
    "    sum += (densitie.data[i,j] - theo_matrix.data[i,j])**2\n",
    "\n",
    "print(\"Distance: \", sum)"
   ],
   "metadata": {
    "collapsed": false,
    "pycharm": {
     "name": "#%%\n"
    }
   }
  }
 ],
 "metadata": {
  "kernelspec": {
   "display_name": "Python 3",
   "language": "python",
   "name": "python3"
  },
  "language_info": {
   "codemirror_mode": {
    "name": "ipython",
    "version": 2
   },
   "file_extension": ".py",
   "mimetype": "text/x-python",
   "name": "python",
   "nbconvert_exporter": "python",
   "pygments_lexer": "ipython2",
   "version": "2.7.6"
  }
 },
 "nbformat": 4,
 "nbformat_minor": 0
}