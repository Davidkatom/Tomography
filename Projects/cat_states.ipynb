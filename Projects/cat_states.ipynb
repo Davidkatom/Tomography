{
 "cells": [
  {
   "cell_type": "code",
   "execution_count": 1,
   "metadata": {
    "collapsed": true
   },
   "outputs": [],
   "source": [
    "import matplotlib.pyplot as plt\n",
    "import numpy as np\n",
    "import time\n",
    "\n",
    "import qiskit\n",
    "import qiskit.quantum_info as qi\n",
    "# Tomography functions\n",
    "from qiskit.providers.aer.noise import NoiseModel\n",
    "from qiskit.ignis.verification.tomography import state_tomography_circuits, StateTomographyFitter\n",
    "from qiskit.quantum_info import DensityMatrix\n",
    "\n",
    "from qiskit import *\n",
    "from qiskit import QuantumCircuit, transpile, Aer, IBMQ\n",
    "from qiskit.visualization import *\n",
    "\n",
    "# Loading your IBM Quantum account(s)\n",
    "IBMQ.save_account(\n",
    "    '280beccbee94456a161a6cbc217e1366bc278bf60e22bd30281fa0ca5bec6e50897278ef818f3c53f6700e04b9ed32ea364195044413b7e02836a79d886b03d9',\n",
    "    overwrite=True)\n",
    "IBMQ.load_account()\n",
    "provider = IBMQ.get_provider(hub='ibm-q-research')"
   ]
  },
  {
   "cell_type": "code",
   "execution_count": 2,
   "outputs": [],
   "source": [
    "from IPython.core.display import display\n",
    "\n",
    "n = 5\n",
    "vectors = []\n",
    "circuits = []\n",
    "for i in range(2, n + 1):\n",
    "    cir = QuantumCircuit(i)\n",
    "    cir.h(0)\n",
    "    for j in range(0, i - 1):\n",
    "        cir.cx(j, j + 1)\n",
    "    circuits.append(cir)\n",
    "    vectors.append(qi.Statevector.from_instruction(cir))\n",
    "drawings = []\n",
    "for i in range(len(circuits)):\n",
    "    drawings.append(circuits[i].draw(output='mpl'))\n",
    "\n",
    "#display(*drawings)"
   ],
   "metadata": {
    "collapsed": false,
    "pycharm": {
     "name": "#%%\n"
    }
   }
  },
  {
   "cell_type": "code",
   "execution_count": 3,
   "outputs": [
    {
     "name": "stderr",
     "output_type": "stream",
     "text": [
      "c:\\python-interpreters\\lib\\site-packages\\qiskit\\ignis\\verification\\tomography\\basis\\circuits.py:468: DeprecationWarning: The QuantumCircuit.__iadd__() method is being deprecated. Use the compose() (potentially with the inplace=True argument) and tensor() methods which are more flexible w.r.t circuit register compatibility.\n",
      "  prep += circuit\n",
      "c:\\python-interpreters\\lib\\site-packages\\qiskit\\circuit\\quantumcircuit.py:942: DeprecationWarning: The QuantumCircuit.extend() method is being deprecated. Use the compose() (potentially with the inplace=True argument) and tensor() methods which are more flexible w.r.t circuit register compatibility.\n",
      "  return self.extend(rhs)\n",
      "c:\\python-interpreters\\lib\\site-packages\\qiskit\\ignis\\verification\\tomography\\basis\\circuits.py:478: DeprecationWarning: The QuantumCircuit.__add__() method is being deprecated.Use the compose() method which is more flexible w.r.t circuit register compatibility.\n",
      "  circ = prep + meas\n",
      "c:\\python-interpreters\\lib\\site-packages\\qiskit\\circuit\\quantumcircuit.py:933: DeprecationWarning: The QuantumCircuit.combine() method is being deprecated. Use the compose() method which is more flexible w.r.t circuit register compatibility.\n",
      "  return self.combine(rhs)\n"
     ]
    }
   ],
   "source": [
    "tomo_circuits = []\n",
    "for cir in circuits:\n",
    "    tomo_circuits.append(state_tomography_circuits(cir, cir.qubits));"
   ],
   "metadata": {
    "collapsed": false,
    "pycharm": {
     "name": "#%%\n"
    }
   }
  },
  {
   "cell_type": "code",
   "execution_count": 4,
   "outputs": [],
   "source": [
    "#lagos simulator\n",
    "results = []\n",
    "backend = provider.get_backend('ibm_lagos')\n",
    "noise_model = NoiseModel.from_backend(backend)\n",
    "\n",
    "# Get coupling map from backend\n",
    "coupling_map = backend.configuration().coupling_map\n",
    "\n",
    "# Get basis gates from noise model\n",
    "basis_gates = noise_model.basis_gates\n",
    "qcomp = Aer.get_backend(\"qasm_simulator\")\n",
    "for group in tomo_circuits:\n",
    "    results.append(qiskit.execute(group, Aer.get_backend('qasm_simulator'), shots=80000).result())\n"
   ],
   "metadata": {
    "collapsed": false,
    "pycharm": {
     "name": "#%%\n"
    }
   }
  },
  {
   "cell_type": "code",
   "execution_count": null,
   "outputs": [],
   "source": [
    "#Retrive results:\n",
    "import utility\n",
    "results = [utility.retrieve(\"Lagos_fidelity_to_qubits_withMap\").result(),\n",
    "           utility.retrieve(\"Lagos_fidelity_to_qubits_withMap0\").result(),\n",
    "           utility.retrieve(\"Lagos_fidelity_to_qubits_withMap1\").result(),\n",
    "           utility.retrieve(\"Lagos_fidelity_to_qubits_withMap2\").result()]\n"
   ],
   "metadata": {
    "collapsed": false,
    "pycharm": {
     "name": "#%%\n"
    }
   }
  },
  {
   "cell_type": "code",
   "execution_count": 5,
   "outputs": [
    {
     "name": "stderr",
     "output_type": "stream",
     "text": [
      "c:\\python-interpreters\\lib\\site-packages\\qiskit\\aqua\\__init__.py:86: DeprecationWarning: The package qiskit.aqua is deprecated. It was moved/refactored to qiskit-terra For more information see <https://github.com/Qiskit/qiskit-aqua/blob/main/README.md#migration-guide>\n",
      "  warn_package('aqua', 'qiskit-terra')\n"
     ]
    },
    {
     "name": "stdout",
     "output_type": "stream",
     "text": [
      "{2: 0.9984339523441345, 3: 0.9975203291195477, 4: 0.996372694656114, 5: 0.996917367756057}\n"
     ]
    }
   ],
   "source": [
    "from Tomography import tomography\n",
    "densities = []\n",
    "fidelities = {}\n",
    "purities = {}\n",
    "for i in range(len(results)):\n",
    "    tomo_fitter_bell = StateTomographyFitter(results[i], tomo_circuits[i]).fit(method='lstsq')\n",
    "    densities.append(DensityMatrix(tomo_fitter_bell))\n",
    "    temp_dict = {i + 2: (tomography.calc_fidelity(DensityMatrix(tomo_fitter_bell), vectors[i]))}\n",
    "    temp_dict_pure = {i + 2: (tomography.calc_purity(DensityMatrix(tomo_fitter_bell)))}\n",
    "    fidelities.update(temp_dict)\n",
    "    purities.update(temp_dict_pure)\n",
    "print(fidelities)"
   ],
   "metadata": {
    "collapsed": false,
    "pycharm": {
     "name": "#%%\n"
    }
   }
  },
  {
   "cell_type": "code",
   "execution_count": 6,
   "outputs": [
    {
     "name": "stdout",
     "output_type": "stream",
     "text": [
      "           2\n",
      "0.0003646 x - 0.003122 x + 1.003\n",
      "                         2\n",
      "(0.000363 + 1.343e-21j) x + (-0.003111 + -9.798e-21j) x + (1.003 + 1.359e-20j)\n"
     ]
    },
    {
     "name": "stderr",
     "output_type": "stream",
     "text": [
      "c:\\python-interpreters\\lib\\site-packages\\matplotlib\\collections.py:206: ComplexWarning: Casting complex values to real discards the imaginary part\n",
      "  offsets = np.asanyarray(offsets, float)\n",
      "c:\\python-interpreters\\lib\\site-packages\\matplotlib\\cbook\\__init__.py:1333: ComplexWarning: Casting complex values to real discards the imaginary part\n",
      "  return np.asarray(x, float)\n"
     ]
    },
    {
     "data": {
      "text/plain": "<Figure size 432x288 with 1 Axes>",
      "image/png": "[encoded data removed]"
     },
     "metadata": {
      "needs_background": "light"
     },
     "output_type": "display_data"
    }
   ],
   "source": [
    "plt.scatter(fidelities.keys(), fidelities.values())\n",
    "plt.scatter(purities.keys(), purities.values())\n",
    "plt.axis([1, 6, 0, 1])\n",
    "plt.ylabel('Fidelity')\n",
    "plt.xlabel('num of qubits')\n",
    "plt.legend([\"Fidelity\", \"Purity\"])\n",
    "plt.grid(True)\n",
    "\n",
    "x = np.linspace(0, 6, 50, False)\n",
    "poly_f = np.polyfit(list(fidelities.keys()), list(fidelities.values()),2)\n",
    "poly_p = np.polyfit(list(purities.keys()), list(purities.values()),2)\n",
    "trendpoly_f = np.poly1d(poly_f)\n",
    "trendpoly_p = np.poly1d(poly_p)\n",
    "print(trendpoly_f)\n",
    "print(trendpoly_p)\n",
    "plt.plot(x,trendpoly_f(x))\n",
    "plt.plot(x,trendpoly_p(x))\n",
    "#plt.plot(fidelities)\n",
    "plt.show()\n"
   ],
   "metadata": {
    "collapsed": false,
    "pycharm": {
     "name": "#%%\n"
    }
   }
  },
  {
   "cell_type": "code",
   "execution_count": null,
   "outputs": [],
   "source": [
    "from qiskit.tools import job_monitor\n",
    "#JAKARTA\n",
    "import utility\n",
    "results = []\n",
    "backend = provider.get_backend('ibm_lagos')\n",
    "noise_model = NoiseModel.from_backend(backend)\n",
    "\n",
    "# Get coupling map from backend\n",
    "coupling_map = backend.configuration().coupling_map\n",
    "\n",
    "# Get basis gates from noise model\n",
    "basis_gates = noise_model.basis_gates\n",
    "qcomp = Aer.get_backend(\"qasm_simulator\")\n",
    "full_layout = [0,1,3,5,4,2,6]\n",
    "for group in tomo_circuits:\n",
    "    layout = full_layout[:group[0].num_qubits]\n",
    "    job = qiskit.execute(group, backend,initial_layout=layout,shots=8000)\n",
    "    job_monitor(job)\n",
    "    utility.save_job(job,\"Jakarta_fidelity_to_qubits_withMap_(2)\")\n",
    "    results.append(job.result())"
   ],
   "metadata": {
    "collapsed": false,
    "pycharm": {
     "name": "#%%\n"
    }
   }
  },
  {
   "cell_type": "code",
   "execution_count": null,
   "outputs": [],
   "source": [
    "from Tomography import tomography\n",
    "densities = []\n",
    "fidelities = {}\n",
    "purities = {}\n",
    "for i in range(len(results)):\n",
    "    tomo_fitter_bell = StateTomographyFitter(results[i], tomo_circuits[i]).fit(method='lstsq')\n",
    "    densities.append(DensityMatrix(tomo_fitter_bell))\n",
    "    temp_dict = {i + 2: (tomography.calc_fidelity(DensityMatrix(tomo_fitter_bell), vectors[i]))}\n",
    "    temp_dict_pure = {i + 2: (tomography.calc_purity(DensityMatrix(tomo_fitter_bell)))}\n",
    "    fidelities.update(temp_dict)\n",
    "    purities.update(temp_dict_pure)\n",
    "print(fidelities)"
   ],
   "metadata": {
    "collapsed": false,
    "pycharm": {
     "name": "#%%\n"
    }
   }
  },
  {
   "cell_type": "code",
   "execution_count": null,
   "outputs": [],
   "source": [
    "plt.scatter(fidelities.keys(), fidelities.values())\n",
    "plt.scatter(purities.keys(), purities.values())\n",
    "plt.axis([1, 6, 0, 1])\n",
    "plt.ylabel('Fidelity')\n",
    "plt.xlabel('num of qubits')\n",
    "plt.legend([\"Fidelity\", \"Purity\"])\n",
    "plt.grid(True)\n",
    "\n",
    "x = np.linspace(0, 6, 50, False)\n",
    "poly_f = np.polyfit(list(fidelities.keys()), list(fidelities.values()),2)\n",
    "poly_p = np.polyfit(list(purities.keys()), list(purities.values()),2)\n",
    "trendpoly_f = np.poly1d(poly_f)\n",
    "trendpoly_p = np.poly1d(poly_p)\n",
    "print(trendpoly_f)\n",
    "print(trendpoly_p)\n",
    "plt.plot(x,trendpoly_f(x))\n",
    "plt.plot(x,trendpoly_p(x))\n",
    "#plt.plot(fidelities)\n",
    "plt.show()"
   ],
   "metadata": {
    "collapsed": false,
    "pycharm": {
     "name": "#%%\n"
    }
   }
  },
  {
   "cell_type": "code",
   "execution_count": null,
   "outputs": [],
   "source": [
    "from Tomography import utility\n",
    "\n",
    "results = []\n",
    "shots = []\n",
    "backend = provider.get_backend('ibmq_jakarta')\n",
    "\n",
    "noise_model = NoiseModel.from_backend(backend)\n",
    "# Get coupling map from backend\n",
    "coupling_map = backend.configuration().coupling_map\n",
    "\n",
    "# Get basis gates from noise model\n",
    "basis_gates = noise_model.basis_gates\n",
    "qcomp = Aer.get_backend(\"qasm_simulator\")\n",
    "\n",
    "circuit = tomo_circuits[3]\n",
    "full_layout = [0,1,3,5,4]\n",
    "i = 0\n",
    "n_shots = 1\n",
    "while n_shots < 8000:\n",
    "    store = False\n",
    "    if n_shots == 2048:\n",
    "        store = True\n",
    "\n",
    "    print(n_shots)\n",
    "    #results.append(utility.execute(circuit, 'ibm_lagos', str(n_shots) + \" shots 5 qubit cat state\" , shots=n_shots).result())\n",
    "    results.append(qiskit.execute(circuit, Aer.get_backend('qasm_simulator'),\n",
    "                                  coupling_map=coupling_map,\n",
    "                                  basis_gates=basis_gates,\n",
    "                                  noise_model=noise_model,initial_layout=full_layout, shots=n_shots).result())\n",
    "    shots.append(i)\n",
    "    i += 1\n",
    "    n_shots = pow(2, i)\n",
    "\n"
   ],
   "metadata": {
    "collapsed": false,
    "pycharm": {
     "name": "#%%\n"
    }
   }
  },
  {
   "cell_type": "code",
   "execution_count": null,
   "outputs": [],
   "source": [
    "from Tomography import utility\n",
    "#lagos not simulator\n",
    "results = []\n",
    "shots = []\n",
    "backend = provider.get_backend('ibmq_jakarta')\n",
    "\n",
    "\n",
    "\n",
    "circuit = tomo_circuits[3]\n",
    "full_layout = [0,1,3,5,4]\n",
    "i = 0\n",
    "n_shots = 1\n",
    "while n_shots < 8000:\n",
    "    store = False\n",
    "    if n_shots == 2048:\n",
    "        store = True\n",
    "\n",
    "    print(n_shots)\n",
    "    #results.append(utility.execute(circuit, 'ibm_lagos', str(n_shots) + \" shots 5 qubit cat state\" , shots=n_shots).result())\n",
    "    job = qiskit.execute(circuit, backend,initial_layout=full_layout,shots=n_shots)\n",
    "    job_monitor(job)\n",
    "    utility.save_job(job,\"Jakarta_fidelity_to_shots_withMap_(1)\")\n",
    "    results.append(job.result())\n",
    "\n",
    "    shots.append(i)\n",
    "    i += 1\n",
    "    n_shots = pow(2, i)\n"
   ],
   "metadata": {
    "collapsed": false,
    "pycharm": {
     "name": "#%%\n"
    }
   }
  },
  {
   "cell_type": "code",
   "execution_count": null,
   "outputs": [],
   "source": [
    "print(results)\n",
    "fidelities = {}\n",
    "purities = {}\n",
    "for i in range(len(results)):\n",
    "    tomo_fitter_bell = StateTomographyFitter(results[i], tomo_circuits[3]).fit(method='lstsq')\n",
    "    densities.append(DensityMatrix(tomo_fitter_bell))\n",
    "    temp_dict = {shots[i]: (pow(qi.state_fidelity(DensityMatrix(tomo_fitter_bell), vectors[3]), 2))}\n",
    "    fidelities.update(temp_dict)\n",
    "    temp_dict_pure = {shots[i]: (np.absolute(qi.purity(tomo_fitter_bell)))}\n",
    "    purities.update(temp_dict_pure)"
   ],
   "metadata": {
    "collapsed": false,
    "pycharm": {
     "name": "#%%\n"
    }
   }
  },
  {
   "cell_type": "code",
   "execution_count": null,
   "outputs": [],
   "source": [
    "from matplotlib.axes import Axes\n",
    "\n",
    "plt.scatter(fidelities.keys(), fidelities.values())\n",
    "plt.scatter(purities.keys(), purities.values(), color=\"orange\")\n",
    "plt.legend([\"Fidelity\", \"Purity\"])\n",
    "plt.axis([0, 15, 0, 1])\n",
    "plt.title('5 qubit cat state')\n",
    "plt.ylabel('Fidelity')\n",
    "plt.xlabel('num of shots - 2^n')\n",
    "\n",
    "plt.grid(True)\n",
    "\n",
    "x = np.linspace(0, 12, 50, False)\n",
    "poly_f = np.polyfit(list(fidelities.keys()), list(fidelities.values()),2)\n",
    "poly_p = np.polyfit(list(purities.keys()), list(purities.values()),2)\n",
    "trendpoly_f = np.poly1d(poly_f)\n",
    "trendpoly_p = np.poly1d(poly_p)\n",
    "print(trendpoly_f)\n",
    "print(trendpoly_p)\n",
    "plt.plot(x,trendpoly_f(x))\n",
    "plt.plot(x,trendpoly_p(x))\n",
    "#plt.plot(fidelities)\n",
    "plt.show()"
   ],
   "metadata": {
    "collapsed": false,
    "pycharm": {
     "name": "#%%\n"
    }
   }
  },
  {
   "cell_type": "code",
   "execution_count": null,
   "outputs": [],
   "source": [
    "print(\"Average purity: \", np.mean(list(purities.values())))\n",
    "print(\"Purity standard deviation: \", np.std(list(purities.values())))\n",
    "print(\"Average fidelity: \", np.mean(list(fidelities.values())))\n",
    "print(\"Fidelity standard deviation: \", np.std(list(fidelities.values())))"
   ],
   "metadata": {
    "collapsed": false,
    "pycharm": {
     "name": "#%%\n"
    }
   }
  },
  {
   "cell_type": "code",
   "execution_count": null,
   "outputs": [],
   "source": [
    "import random\n",
    "\n",
    "i = 0\n",
    "diluted = []\n",
    "n_shots = 1\n",
    "print(results[len(results) - 1].get_memory(2))\n",
    "\n",
    "#keys = random.sample(results[len(results)-1].keys(), 10)\n",
    "\n",
    "\n",
    "#while n_shots < 8000:\n",
    "#    for x,y in results[len(results)-1]:\n",
    "#\n",
    "#    diluted.append(i)\n",
    "#    i += 1\n",
    "#    n_shots = pow(2,i)\n",
    "\n"
   ],
   "metadata": {
    "collapsed": false,
    "pycharm": {
     "name": "#%%\n"
    }
   }
  }
 ],
 "metadata": {
  "kernelspec": {
   "display_name": "Python 3",
   "language": "python",
   "name": "python3"
  },
  "language_info": {
   "codemirror_mode": {
    "name": "ipython",
    "version": 2
   },
   "file_extension": ".py",
   "mimetype": "text/x-python",
   "name": "python",
   "nbconvert_exporter": "python",
   "pygments_lexer": "ipython2",
   "version": "2.7.6"
  }
 },
 "nbformat": 4,
 "nbformat_minor": 0
}