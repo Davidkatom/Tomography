{
 "cells": [
  {
   "cell_type": "code",
   "execution_count": 1,
   "metadata": {
    "pycharm": {
     "name": "#%%\n"
    }
   },
   "outputs": [],
   "source": [
    "import matplotlib.pyplot as plt\n",
    "import numpy as np\n",
    "import time\n",
    "\n",
    "import qiskit\n",
    "import qiskit.quantum_info as qi\n",
    "# Tomography functions\n",
    "from qiskit.providers.aer.noise import NoiseModel\n",
    "from qiskit.ignis.verification.tomography import state_tomography_circuits, StateTomographyFitter\n",
    "from qiskit.quantum_info import DensityMatrix\n",
    "\n",
    "from qiskit import *\n",
    "from qiskit import QuantumCircuit, transpile, Aer, IBMQ\n",
    "from qiskit.visualization import *\n",
    "\n",
    "# Loading your IBM Quantum account(s)\n",
    "IBMQ.save_account(\n",
    "    '280beccbee94456a161a6cbc217e1366bc278bf60e22bd30281fa0ca5bec6e50897278ef818f3c53f6700e04b9ed32ea364195044413b7e02836a79d886b03d9',\n",
    "    overwrite=True)\n",
    "IBMQ.load_account()\n",
    "provider = IBMQ.get_provider(hub='ibm-q-research')"
   ]
  },
  {
   "cell_type": "code",
   "metadata": {
    "pycharm": {
     "name": "#%%\n"
    }
   },
   "source": [
    "#Create cat states\n",
    "n = 5\n",
    "vectors = []\n",
    "circuits = []\n",
    "for i in range(2, n + 1):\n",
    "    cir = QuantumCircuit(i)\n",
    "    cir.h(0)\n",
    "    for j in range(0, i - 1):\n",
    "        cir.cx(j, j + 1)\n",
    "    circuits.append(cir)\n",
    "    vectors.append(qi.Statevector.from_instruction(cir))\n",
    "drawings = []\n",
    "for i in range(len(circuits)):\n",
    "    drawings.append(circuits[i].draw(output='mpl'))"
   ],
   "execution_count": 2,
   "outputs": []
  },
  {
   "cell_type": "raw",
   "metadata": {
    "pycharm": {
     "name": "#%% raw\n"
    }
   },
   "source": [
    "from qiskit.circuit.random import random_circuit\n",
    "n = 5\n",
    "\n",
    "vectors = []\n",
    "circuits = []\n",
    "for i in range(2, n + 1):\n",
    "    cir = random_circuit(i,3)\n",
    "    circuits.append(cir)\n",
    "drawings = []\n",
    "for i in range(len(circuits)):\n",
    "    drawings.append(circuits[i].draw(output='mpl'))\n",
    "    display(drawings[-1])"
   ]
  },
  {
   "cell_type": "code",
   "execution_count": 3,
   "metadata": {
    "pycharm": {
     "name": "#%%\n"
    }
   },
   "outputs": [
    {
     "name": "stderr",
     "output_type": "stream",
     "text": [
      "/home/david/python-inter/lib/python3.9/site-packages/qiskit/ignis/verification/tomography/basis/circuits.py:468: DeprecationWarning: The QuantumCircuit.__iadd__() method is being deprecated. Use the compose() (potentially with the inplace=True argument) and tensor() methods which are more flexible w.r.t circuit register compatibility.\n",
      "  prep += circuit\n",
      "/home/david/python-inter/lib/python3.9/site-packages/qiskit/circuit/quantumcircuit.py:942: DeprecationWarning: The QuantumCircuit.extend() method is being deprecated. Use the compose() (potentially with the inplace=True argument) and tensor() methods which are more flexible w.r.t circuit register compatibility.\n",
      "  return self.extend(rhs)\n",
      "/home/david/python-inter/lib/python3.9/site-packages/qiskit/ignis/verification/tomography/basis/circuits.py:478: DeprecationWarning: The QuantumCircuit.__add__() method is being deprecated.Use the compose() method which is more flexible w.r.t circuit register compatibility.\n",
      "  circ = prep + meas\n",
      "/home/david/python-inter/lib/python3.9/site-packages/qiskit/circuit/quantumcircuit.py:933: DeprecationWarning: The QuantumCircuit.combine() method is being deprecated. Use the compose() method which is more flexible w.r.t circuit register compatibility.\n",
      "  return self.combine(rhs)\n"
     ]
    }
   ],
   "source": [
    "tomo_circuits = []\n",
    "vectors = []\n",
    "\n",
    "for cir in circuits:\n",
    "    vectors.append(qi.Statevector.from_instruction(cir))\n",
    "    tomo_circuits.append(state_tomography_circuits(cir, cir.qubits));"
   ]
  },
  {
   "cell_type": "code",
   "metadata": {
    "pycharm": {
     "name": "#%%\n"
    }
   },
   "source": [
    "#Simulator\n",
    "name = 'ibm_lagos'\n",
    "results = []\n",
    "backend = provider.get_backend(name)\n",
    "noise_model = NoiseModel.from_backend(backend)\n",
    "full_layout = [0, 1, 3, 5, 4, 2, 6]\n",
    "# Get coupling map from backend\n",
    "coupling_map = backend.configuration().coupling_map\n",
    "\n",
    "# Get basis gates from noise model\n",
    "basis_gates = noise_model.basis_gates\n",
    "qcomp = Aer.get_backend(\"qasm_simulator\")\n",
    "for group in tomo_circuits:\n",
    "    layout = full_layout[:group[0].num_qubits]\n",
    "    results.append(qiskit.execute(group, Aer.get_backend('qasm_simulator'),\n",
    "                                  coupling_map=coupling_map,\n",
    "                                  basis_gates=basis_gates,\n",
    "                                  noise_model=noise_model, initial_layout=layout, shots=8000).result())"
   ],
   "execution_count": null,
   "outputs": []
  },
  {
   "cell_type": "raw",
   "metadata": {
    "pycharm": {
     "name": "#%% raw\n"
    }
   },
   "source": [
    "#Real\n",
    "from qiskit.tools import job_monitor\n",
    "import utility\n",
    "name = 'ibmq_jakarta'\n",
    "results = []\n",
    "backend = provider.get_backend(name)\n",
    "full_layout = [0,1,3,5,4,2,6]\n",
    "for group in tomo_circuits:\n",
    "    layout = full_layout[:group[0].num_qubits]\n",
    "    job = qiskit.execute(group, backend,initial_layout=layout,shots=8000)\n",
    "    job_monitor(job)\n",
    "    utility.save_job(job,\"Jakarta_fidelity_to_qubits_withMap_random_circuit(3)\")\n",
    "    results.append(job.result())\n",
    "\n"
   ]
  },
  {
   "cell_type": "code",
   "metadata": {
    "pycharm": {
     "name": "#%%\n"
    }
   },
   "source": [
    "#Retriev\n",
    "#Retrive results:\n",
    "import utility\n",
    "results = [utility.retrieve(\"Lagos_fidelity_to_qubits_withMap_(1)\").result(),\n",
    "           utility.retrieve(\"Lagos_fidelity_to_qubits_withMap_(1)0\").result(),\n",
    "           utility.retrieve(\"Lagos_fidelity_to_qubits_withMap_(1)1\").result(),\n",
    "           utility.retrieve(\"Lagos_fidelity_to_qubits_withMap_(1)2\").result()]\n"
   ],
   "execution_count": 4,
   "outputs": [
    {
     "name": "stderr",
     "output_type": "stream",
     "text": [
      "/home/david/python-inter/lib/python3.9/site-packages/qiskit/aqua/__init__.py:86: DeprecationWarning: The package qiskit.aqua is deprecated. It was moved/refactored to qiskit-terra For more information see <https://github.com/Qiskit/qiskit-aqua/blob/main/README.md#migration-guide>\n",
      "  warn_package('aqua', 'qiskit-terra')\n"
     ]
    },
    {
     "name": "stdout",
     "output_type": "stream",
     "text": [
      "Retrieved from memory\n",
      "Retrieved from memory\n",
      "Retrieved from memory\n",
      "Retrieved from memory\n"
     ]
    }
   ]
  },
  {
   "cell_type": "code",
   "execution_count": 5,
   "metadata": {
    "pycharm": {
     "name": "#%%\n"
    }
   },
   "outputs": [
    {
     "name": "stdout",
     "output_type": "stream",
     "text": [
      "{2: 0.9091983025245381, 3: 0.857447271135891, 4: 0.8090960033984691, 5: 0.6525253675155589}\n"
     ]
    }
   ],
   "source": [
    "from Tomography import tomography\n",
    "\n",
    "densities = []\n",
    "fidelities = {}\n",
    "purities = {}\n",
    "for i in range(len(results)):\n",
    "    tomo_fitter_bell = StateTomographyFitter(results[i], tomo_circuits[i]).fit(method='lstsq')\n",
    "    densities.append(DensityMatrix(tomo_fitter_bell))\n",
    "    temp_dict = {i + 2: (tomography.calc_fidelity(DensityMatrix(tomo_fitter_bell), vectors[i]))}\n",
    "    temp_dict_pure = {i + 2: (tomography.calc_purity(DensityMatrix(tomo_fitter_bell)))}\n",
    "    fidelities.update(temp_dict)\n",
    "    purities.update(temp_dict_pure)\n",
    "print(fidelities)\n"
   ]
  },
  {
   "cell_type": "code",
   "execution_count": 6,
   "metadata": {
    "pycharm": {
     "name": "#%%\n"
    }
   },
   "outputs": [
    {
     "name": "stdout",
     "output_type": "stream",
     "text": [
      "Number of qubits:  2\n",
      "Vector dot:  0.9986676054164955\n",
      "Eigenvalue (0.954769667743505-2.9541087139193175e-18j)\n",
      "Purity:  0.912992621352396\n",
      "Fidelity:  0.9091983025245381\n",
      "___\n",
      "Fixed purity:  0.9105613093187306\n",
      "_____________\n",
      "Number of qubits:  3\n",
      "Vector dot:  0.9853282292753108\n",
      "Eigenvalue (0.9396071538120738-4.218170344133135e-19j)\n",
      "Purity:  0.8851537495528895\n",
      "Fidelity:  0.857447271135891\n",
      "___\n",
      "Fixed purity:  0.8593707427678071\n",
      "_____________\n",
      "Number of qubits:  4\n",
      "Vector dot:  0.9846273543171584\n",
      "Eigenvalue (0.9132748140122333+1.1474414959865144e-17j)\n",
      "Purity:  0.8371302737671684\n",
      "Fidelity:  0.8090960033984691\n",
      "___\n",
      "Fixed purity:  0.8115902887381673\n",
      "_____________\n",
      "Number of qubits:  5\n",
      "Vector dot:  0.8986327235075094\n",
      "Eigenvalue (0.89407292467052-4.906210668364159e-18j)\n",
      "Purity:  0.8024920466953208\n",
      "Fidelity:  0.6525253675155589\n",
      "___\n",
      "Fixed purity:  0.6480450467184168\n",
      "_____________\n"
     ]
    }
   ],
   "source": [
    "# Theoretical Vector\n",
    "from IPython.display import display, Latex\n",
    "from numpy.linalg import linalg\n",
    "\n",
    "fixed_purities = []\n",
    "#qubits\n",
    "for k in range(2,6):\n",
    "    # Extracting the density matrix from the state tomography result\n",
    "    state_vector = qi.Statevector.from_instruction(circuits[k - 2])\n",
    "    theo_matrix = DensityMatrix(state_vector)\n",
    "    theo_eig = linalg.eig(theo_matrix.data)\n",
    "    theo_eig = (theo_eig[0], theo_eig[1].T)\n",
    "\n",
    "    # Getting the most significant eigenvalue and eigenvector\n",
    "    max_val_theo = 0\n",
    "    index = 0\n",
    "    i = 0\n",
    "    for val in theo_eig[0]:\n",
    "        if np.absolute(val) > np.absolute(max_val_theo):\n",
    "            index = i\n",
    "            max_val_theo = val\n",
    "        i += 1\n",
    "    theo_vector = theo_eig[1][index]\n",
    "\n",
    "    # Real Vector\n",
    "    real_matrix = densities[k - 2]\n",
    "    real_eig = np.linalg.eig(real_matrix)\n",
    "    real_eig = (real_eig[0], real_eig[1].T)\n",
    "\n",
    "    # Getting the most significant eigenvalue and eigenvector\n",
    "    max_val_real = 0\n",
    "    index = 0\n",
    "    i = 0\n",
    "    for val in real_eig[0]:\n",
    "        if np.absolute(val) > np.absolute(max_val_real):\n",
    "            index = i\n",
    "            max_val_real = val\n",
    "        i += 1\n",
    "    real_vector = real_eig[1][index]\n",
    "    real_eignval = real_eig[0][index]\n",
    "\n",
    "\n",
    "    dot = np.abs(np.vdot(theo_vector, real_vector))**2\n",
    "    print(\"Number of qubits: \", k)\n",
    "    print(\"Vector dot: \", dot)\n",
    "    print(\"Eigenvalue\", real_eignval)\n",
    "    print(\"Purity: \", np.absolute(purities[k]))\n",
    "    print(\"Fidelity: \", np.absolute(fidelities[k]))\n",
    "\n",
    "    print(\"___\")\n",
    "    fixed_purities.append(np.absolute(purities[k]) * (dot**2))\n",
    "    print(\"Fixed purity: \", fixed_purities[-1])\n",
    "    print(\"_____________\")\n",
    "    "
   ]
  },
  {
   "cell_type": "code",
   "execution_count": 7,
   "metadata": {
    "pycharm": {
     "name": "#%%\n"
    }
   },
   "outputs": [
    {
     "name": "stdout",
     "output_type": "stream",
     "text": [
      "{2: 0.9091983025245381, 3: 0.857447271135891, 4: 0.8090960033984691, 5: 0.6525253675155589}\n",
      "{2: (0.912992621352396+0j), 3: (0.8851537495528895+8.475798129749539e-19j), 4: (0.8371302737671684+1.2354406933279193e-18j), 5: (0.8024920466953208-3.828631322118957e-18j)}\n",
      " \n",
      "-0.08184 x + 1.093\n",
      " \n",
      "(-0.03795 + -1.11e-18j) x + (0.9923 + 3.448e-18j)\n"
     ]
    },
    {
     "name": "stderr",
     "output_type": "stream",
     "text": [
      "/home/david/python-inter/lib/python3.9/site-packages/matplotlib/collections.py:206: ComplexWarning: Casting complex values to real discards the imaginary part\n",
      "  offsets = np.asanyarray(offsets, float)\n",
      "/home/david/python-inter/lib/python3.9/site-packages/matplotlib/cbook/__init__.py:1333: ComplexWarning: Casting complex values to real discards the imaginary part\n",
      "  return np.asarray(x, float)\n"
     ]
    },
    {
     "data": {
      "text/plain": "<Figure size 640x480 with 1 Axes>",
      "image/png": "[encoded data removed]"
     },
     "metadata": {},
     "output_type": "display_data"
    }
   ],
   "source": [
    "#Draw\n",
    "plt.style.use('default')\n",
    "plt.figure(dpi=100)\n",
    "plt.scatter(fidelities.keys(), fidelities.values())\n",
    "plt.scatter(purities.keys(), purities.values())\n",
    "plt.scatter(purities.keys(), fixed_purities, alpha=1, s=10)\n",
    "plt.axis([1, 6, 0, 1])\n",
    "plt.ylabel('Fidelity')\n",
    "plt.xlabel('num of qubits')\n",
    "plt.legend([\"Fidelity\", \"Purity\", \"Fixed purity\"])\n",
    "plt.grid(True)\n",
    "\n",
    "print(fidelities)\n",
    "print(purities)\n",
    "\n",
    "x = np.linspace(2, 6, 50, False)\n",
    "poly_f = np.polyfit(list(fidelities.keys()), list(fidelities.values()), 1)\n",
    "poly_p = np.polyfit(list(purities.keys()), list(purities.values()), 1)\n",
    "trendpoly_f = np.poly1d(poly_f)\n",
    "trendpoly_p = np.poly1d(poly_p)\n",
    "print(trendpoly_f)\n",
    "print(trendpoly_p)\n",
    "plt.plot(x, trendpoly_f(x), ':')\n",
    "plt.plot(x, trendpoly_p(x), ':')\n",
    "#plt.plot(fidelities)\n",
    "plt.show()"
   ]
  }
 ],
 "metadata": {
  "kernelspec": {
   "display_name": "Python 3 (ipykernel)",
   "language": "python",
   "name": "python3"
  },
  "language_info": {
   "codemirror_mode": {
    "name": "ipython",
    "version": 3
   },
   "file_extension": ".py",
   "mimetype": "text/x-python",
   "name": "python",
   "nbconvert_exporter": "python",
   "pygments_lexer": "ipython3",
   "version": "3.9.9"
  }
 },
 "nbformat": 4,
 "nbformat_minor": 1
}