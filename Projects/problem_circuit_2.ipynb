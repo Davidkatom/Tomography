{
 "cells": [
  {
   "cell_type": "code",
   "execution_count": 3,
   "metadata": {
    "collapsed": true
   },
   "outputs": [],
   "source": [
    "import matplotlib.pyplot as plt\n",
    "import numpy as np\n",
    "import time\n",
    "\n",
    "import qiskit\n",
    "import qiskit as qiskit\n",
    "import qiskit.quantum_info as qi\n",
    "# Tomography functions\n",
    "from qiskit.providers.aer.noise import NoiseModel\n",
    "from qiskit.ignis.verification.tomography import state_tomography_circuits, StateTomographyFitter\n",
    "from qiskit.quantum_info import DensityMatrix\n",
    "\n",
    "from qiskit import *\n",
    "from qiskit import QuantumCircuit, transpile, Aer, IBMQ\n",
    "from qiskit.visualization import *\n",
    "\n",
    "# Loading your IBM Quantum account(s)\n",
    "IBMQ.save_account(\n",
    "    '280beccbee94456a161a6cbc217e1366bc278bf60e22bd30281fa0ca5bec6e50897278ef818f3c53f6700e04b9ed32ea364195044413b7e02836a79d886b03d9',\n",
    "    overwrite=True)\n",
    "IBMQ.load_account()\n",
    "provider = IBMQ.get_provider(hub='ibm-q-research')"
   ]
  },
  {
   "cell_type": "code",
   "execution_count": 4,
   "outputs": [
    {
     "name": "stderr",
     "output_type": "stream",
     "text": [
      "/tmp/ipykernel_1965/4033521064.py:10: DeprecationWarning: The QuantumCircuit.u3 method is deprecated as of 0.16.0. It will be removed no earlier than 3 months after the release date. You should use QuantumCircuit.u instead, which acts identically. Alternatively, you can decompose u3 in terms of QuantumCircuit.p and QuantumCircuit.sx: u3(ϴ,φ,λ) = p(φ+π) sx p(ϴ+π) sx p(λ) (2 pulses on hardware).\n",
      "  circuit.u3(3.33,2.8,3.72,2)\n"
     ]
    },
    {
     "data": {
      "text/plain": "<Figure size 400.578x204.68 with 1 Axes>",
      "image/png": "[encoded data removed]"
     },
     "execution_count": 4,
     "metadata": {},
     "output_type": "execute_result"
    }
   ],
   "source": [
    "from qiskit.circuit.library.standard_gates import CRZGate\n",
    "qr = QuantumRegister(3)\n",
    "circuit = QuantumCircuit(qr)\n",
    "circuit.rx(1.19, 0)\n",
    "circuit.x(1)\n",
    "circuit.sdg(2)\n",
    "circuit.x(1)\n",
    "circuit.crz(4.96,2,0)\n",
    "circuit.swap(0,1)\n",
    "circuit.u3(3.33,2.8,3.72,2)\n",
    "circuit.draw(output='mpl')"
   ],
   "metadata": {
    "collapsed": false,
    "pycharm": {
     "name": "#%%\n"
    }
   }
  },
  {
   "cell_type": "code",
   "execution_count": 5,
   "outputs": [
    {
     "name": "stderr",
     "output_type": "stream",
     "text": [
      "/home/david/python-inter/lib/python3.9/site-packages/qiskit/ignis/verification/tomography/basis/circuits.py:468: DeprecationWarning: The QuantumCircuit.__iadd__() method is being deprecated. Use the compose() (potentially with the inplace=True argument) and tensor() methods which are more flexible w.r.t circuit register compatibility.\n",
      "  prep += circuit\n",
      "/home/david/python-inter/lib/python3.9/site-packages/qiskit/circuit/quantumcircuit.py:942: DeprecationWarning: The QuantumCircuit.extend() method is being deprecated. Use the compose() (potentially with the inplace=True argument) and tensor() methods which are more flexible w.r.t circuit register compatibility.\n",
      "  return self.extend(rhs)\n",
      "/home/david/python-inter/lib/python3.9/site-packages/qiskit/ignis/verification/tomography/basis/circuits.py:478: DeprecationWarning: The QuantumCircuit.__add__() method is being deprecated.Use the compose() method which is more flexible w.r.t circuit register compatibility.\n",
      "  circ = prep + meas\n",
      "/home/david/python-inter/lib/python3.9/site-packages/qiskit/circuit/quantumcircuit.py:933: DeprecationWarning: The QuantumCircuit.combine() method is being deprecated. Use the compose() method which is more flexible w.r.t circuit register compatibility.\n",
      "  return self.combine(rhs)\n"
     ]
    }
   ],
   "source": [
    "vector = qi.Statevector.from_instruction(circuit)\n",
    "tomo_circuit = state_tomography_circuits(circuit, circuit.qubits);"
   ],
   "metadata": {
    "collapsed": false,
    "pycharm": {
     "name": "#%%\n"
    }
   }
  },
  {
   "cell_type": "raw",
   "source": [
    "#Real\n",
    "from qiskit.tools import job_monitor\n",
    "import utility\n",
    "name = 'ibmq_jakarta'\n",
    "backend = provider.get_backend(name)\n",
    "full_layout = [0,1,3,5,4,2,6]\n",
    "\n",
    "layout = full_layout[:tomo_circuit[0].num_qubits]\n",
    "job = qiskit.execute(tomo_circuit, backend,initial_layout=layout,shots=8000)\n",
    "job_monitor(job)\n",
    "utility.save_job(job,\"Jakarta_fidelity_to_qubits_problem_circuit\")\n",
    "result = job.result()"
   ],
   "metadata": {
    "collapsed": false,
    "pycharm": {
     "name": "#%% raw\n"
    }
   }
  },
  {
   "cell_type": "code",
   "execution_count": 6,
   "outputs": [],
   "source": [
    "#Simulator\n",
    "name = 'ibmq_jakarta'\n",
    "results = []\n",
    "backend = provider.get_backend(name)\n",
    "noise_model = NoiseModel.from_backend(backend)\n",
    "full_layout = [0, 1, 3, 5, 4, 2, 6]\n",
    "# Get coupling map from backend\n",
    "coupling_map = backend.configuration().coupling_map\n",
    "\n",
    "# Get basis gates from noise model\n",
    "basis_gates = noise_model.basis_gates\n",
    "qcomp = Aer.get_backend(\"qasm_simulator\")\n",
    "layout = full_layout[:circuit.num_qubits]\n",
    "result = qiskit.execute(tomo_circuit, Aer.get_backend('qasm_simulator'),\n",
    "                                  coupling_map=coupling_map,\n",
    "                                  basis_gates=basis_gates,\n",
    "                                  noise_model=noise_model, initial_layout=layout, shots=8000).result()\n"
   ],
   "metadata": {
    "collapsed": false,
    "pycharm": {
     "name": "#%%\n"
    }
   }
  },
  {
   "cell_type": "raw",
   "source": [
    "import utility\n",
    "result = utility.retrieve(\"Jakarta_fidelity_to_qubits_problem_circuit\").result()"
   ],
   "metadata": {
    "collapsed": false,
    "pycharm": {
     "name": "#%% raw\n"
    }
   }
  },
  {
   "cell_type": "code",
   "execution_count": 7,
   "outputs": [
    {
     "name": "stderr",
     "output_type": "stream",
     "text": [
      "/home/david/python-inter/lib/python3.9/site-packages/qiskit/aqua/__init__.py:86: DeprecationWarning: The package qiskit.aqua is deprecated. It was moved/refactored to qiskit-terra For more information see <https://github.com/Qiskit/qiskit-aqua/blob/main/README.md#migration-guide>\n",
      "  warn_package('aqua', 'qiskit-terra')\n"
     ]
    },
    {
     "name": "stdout",
     "output_type": "stream",
     "text": [
      "(0.8005165220413955+3.4981092607661396e-19j) 0.7930887450083005\n"
     ]
    }
   ],
   "source": [
    "from Tomography import tomography\n",
    "\n",
    "tomo_fitter_bell = StateTomographyFitter(result, tomo_circuit).fit(method='lstsq')\n",
    "densitie = DensityMatrix(tomo_fitter_bell)\n",
    "fidelity = tomography.calc_fidelity(DensityMatrix(tomo_fitter_bell), vector)\n",
    "purity = tomography.calc_purity(DensityMatrix(tomo_fitter_bell))\n",
    "\n",
    "print(purity,fidelity)"
   ],
   "metadata": {
    "collapsed": false,
    "pycharm": {
     "name": "#%%\n"
    }
   }
  },
  {
   "cell_type": "code",
   "execution_count": 8,
   "outputs": [
    {
     "name": "stdout",
     "output_type": "stream",
     "text": [
      "Number of qubits:  3\n",
      "Vector dot:  0.1618841060255396\n",
      "Eigenvalue (0.8920316705808546-8.129577340586475e-18j)\n",
      "Purity:  0.8005165220413955\n",
      "Fidelity:  0.7930887450083005\n",
      "___\n",
      "Fixed purity:  0.020978707243121824\n",
      "_____________\n"
     ]
    }
   ],
   "source": [
    "from numpy.linalg import linalg\n",
    "\n",
    "fixed_purities = 0\n",
    "\n",
    "# Extracting the density matrix from the state tomography result\n",
    "state_vector = qi.Statevector.from_instruction(circuit)\n",
    "theo_matrix = DensityMatrix(state_vector)\n",
    "theo_eig = linalg.eig(theo_matrix.data)\n",
    "theo_eig = (theo_eig[0], theo_eig[1].T)\n",
    "\n",
    "# Getting the most significant eigenvalue and eigenvector\n",
    "max_val_theo = 0\n",
    "index = 0\n",
    "i = 0\n",
    "for val in theo_eig[0]:\n",
    "    if np.absolute(val) > np.absolute(max_val_theo):\n",
    "        index = i\n",
    "        max_val_theo = val\n",
    "    i += 1\n",
    "theo_vector = theo_eig[1][index]\n",
    "\n",
    "# Real Vector\n",
    "real_matrix = densitie\n",
    "real_eig = np.linalg.eig(real_matrix)\n",
    "real_eig = (real_eig[0], real_eig[1].T)\n",
    "\n",
    "# Getting the most significant eigenvalue and eigenvector\n",
    "max_val_real = 0\n",
    "index = 0\n",
    "i = 0\n",
    "for val in real_eig[0]:\n",
    "    if np.absolute(val) > np.absolute(max_val_real):\n",
    "        index = i\n",
    "        max_val_real = val\n",
    "    i += 1\n",
    "real_vector = real_eig[1][index]\n",
    "real_eignval = real_eig[0][index]\n",
    "\n",
    "\n",
    "dot = np.abs(np.dot(theo_vector, real_vector))**2\n",
    "print(\"Number of qubits: \", 3)\n",
    "print(\"Vector dot: \", dot)\n",
    "print(\"Eigenvalue\", real_eignval)\n",
    "print(\"Purity: \", np.absolute(purity))\n",
    "print(\"Fidelity: \", np.absolute(fidelity))\n",
    "\n",
    "print(\"___\")\n",
    "fixed_purity = np.absolute(purity) * (dot**2)\n",
    "print(\"Fixed purity: \", fixed_purity)\n",
    "print(\"_____________\")"
   ],
   "metadata": {
    "collapsed": false,
    "pycharm": {
     "name": "#%%\n"
    }
   }
  },
  {
   "cell_type": "code",
   "execution_count": 9,
   "outputs": [
    {
     "data": {
      "text/plain": "<IPython.core.display.Latex object>",
      "text/latex": "$$\n\n\\begin{bmatrix}\n-0.0779 & 0 & 0.05272i & 0 & -0.77684 + 0.27619i & 0 & 0.18693 + 0.52578i & 0  \\\\\n \\end{bmatrix}\n$$"
     },
     "execution_count": 9,
     "metadata": {},
     "output_type": "execute_result"
    }
   ],
   "source": [
    "vector.draw('latex')"
   ],
   "metadata": {
    "collapsed": false,
    "pycharm": {
     "name": "#%%\n"
    }
   }
  },
  {
   "cell_type": "code",
   "execution_count": 10,
   "outputs": [
    {
     "name": "stdout",
     "output_type": "stream",
     "text": [
      "0.8920316705808546 :  [0.08166173+2.11453099e-02j 0.00369701+4.00418009e-04j\n",
      " 0.01342131-5.07457773e-02j 0.00620862-3.00519757e-03j\n",
      " 0.84230379+0.00000000e+00j 0.0083024 +7.19324880e-03j\n",
      " 0.01597165-5.29237584e-01j 0.00699666-8.64542444e-03j]\n",
      "0.05795587563967855 :  [ 1.75743115e-02-0.03714945j  6.39648221e-04-0.0070616j\n",
      "  1.01284095e-01+0.01146162j -3.97241140e-02+0.0134572j\n",
      " -1.62321795e-02-0.52562341j  4.01187086e-02-0.08084613j\n",
      "  8.35505050e-01+0.j         -5.36942499e-02+0.02170324j]\n",
      "0.03599484611449121 :  [ 0.81648671+0.j         -0.01275175+0.04567382j -0.00232337-0.49272669j\n",
      " -0.01215176+0.01717051j -0.05777497+0.01111823j -0.16352736+0.01151963j\n",
      "  0.01858946+0.08198773j  0.22462703+0.00359769j]\n",
      "0.011767240282474313 :  [-0.04656557+0.07422549j  0.08937787+0.0889102j   0.08669816-0.29196505j\n",
      " -0.03901828-0.08865234j -0.0535017 +0.01165499j  0.82928009+0.j\n",
      " -0.01646037-0.03755355j  0.13231938-0.4054548j ]\n",
      "0.0016292836888732658 :  [ 0.03757017-0.39759323j -0.15193303+0.1432371j   0.69189865+0.j\n",
      "  0.39650307-0.07686996j  0.00632609+0.04650645j -0.10690889-0.19597411j\n",
      " -0.07238456+0.01628878j -0.20445783-0.23603831j]\n",
      "0.0006210836936289228 :  [-0.1135318 -0.13803351j  0.70028688+0.j          0.0981802 -0.0594968j\n",
      "  0.30557556+0.30941117j  0.03432171+0.00464266j  0.05046523-0.21004975j\n",
      " -0.01066357+0.04356132j  0.35179558+0.3189452j ]\n",
      "8.225015162426997e-18 :  [ 0.07351039+0.34454084j  0.2274983 +0.38653587j -0.3022683 +0.06660346j\n",
      "  0.58197213+0.j         -0.0299498 -0.05542781j -0.12647293+0.21586571j\n",
      "  0.06349518-0.02321928j -0.25818154-0.32005866j]\n",
      "3.85143559366553e-18 :  [-0.15581029+2.34080468e-04j -0.27694691+5.08137062e-01j\n",
      " -0.1387705 +8.95371401e-02j  0.01181507-3.06233481e-01j\n",
      "  0.0269285 -1.75784459e-02j -0.11320911-3.72293666e-01j\n",
      "  0.0266586 +9.01906912e-03j  0.60529538+0.00000000e+00j]\n"
     ]
    }
   ],
   "source": [
    "for i in range(len(real_eig[0])):\n",
    "    print(np.abs(real_eig[0][i]), \": \", real_eig[1][i])"
   ],
   "metadata": {
    "collapsed": false,
    "pycharm": {
     "name": "#%%\n"
    }
   }
  },
  {
   "cell_type": "code",
   "execution_count": 11,
   "outputs": [
    {
     "data": {
      "text/plain": "<IPython.core.display.Latex object>",
      "text/latex": "$$\n\n\\begin{bmatrix}\n0.03081 & -0.0002 - 0.00114i & -0.00023 + 0.01766i & -0.00006 - 0.00044i & 0.06078 + 0.01608i & -0.00417 + 0.00008i & -0.00746 + 0.03466i & 0.00651 + 0.00078i  \\\\\n -0.0002 + 0.00114i & 0.00066 & -0.00113 + 0.00049i & -0.00007 + 0.00001i & 0.00302 + 0.00018i & 0.00103 + 0.00059i & -0.00002 + 0.00147i & -0.00022 + 0.00074i  \\\\\n -0.00023 - 0.01766i & -0.00113 - 0.00049i & 0.01368 & 0.0004 + 0.00015i & 0.00936 - 0.03391i & 0.0005 + 0.00032i & 0.02763 + 0.00592i & 0.0014 - 0.00417i  \\\\\n -0.00006 + 0.00044i & -0.00007 - 0.00001i & 0.0004 - 0.00015i & 0.00065 & 0.00434 - 0.00348i & -0.00051 - 0.00099i & -0.00037 + 0.00358i & 0.00049 + 0.00004i  \\\\\n 0.06078 - 0.01608i & 0.00302 - 0.00018i & 0.00936 + 0.03391i & 0.00434 + 0.00348i & 0.64907 & 0.00847 - 0.00663i & 0.01121 + 0.37234i & 0.00403 + 0.00799i  \\\\\n -0.00417 - 0.00008i & 0.00103 - 0.00059i & 0.0005 - 0.00032i & -0.00051 + 0.00099i & 0.00847 + 0.00663i & 0.00975 & -0.00157 + 0.00099i & -0.00018 + 0.00435i  \\\\\n -0.00746 - 0.03466i & -0.00002 - 0.00147i & 0.02763 - 0.00592i & -0.00037 - 0.00358i & 0.01121 - 0.37234i & -0.00157 - 0.00099i & 0.29082 & 0.00192 - 0.00373i  \\\\\n 0.00651 - 0.00078i & -0.00022 - 0.00074i & 0.0014 + 0.00417i & 0.00049 - 0.00004i & 0.00403 - 0.00799i & -0.00018 - 0.00435i & 0.00192 + 0.00373i & 0.00456  \\\\\n \\end{bmatrix}\n$$"
     },
     "execution_count": 11,
     "metadata": {},
     "output_type": "execute_result"
    }
   ],
   "source": [
    "densitie.draw('latex')"
   ],
   "metadata": {
    "collapsed": false,
    "pycharm": {
     "name": "#%%\n"
    }
   }
  },
  {
   "cell_type": "code",
   "execution_count": 12,
   "outputs": [
    {
     "data": {
      "text/plain": "<IPython.core.display.Latex object>",
      "text/latex": "$$\n\n\\begin{bmatrix}\n0.00607 & 0 & 0.00411i & 0 & 0.06052 + 0.02151i & 0 & -0.01456 + 0.04096i & 0  \\\\\n 0 & 0 & 0 & 0 & 0 & 0 & 0 & 0  \\\\\n -0.00411i & 0 & 0.00278 & 0 & 0.01456 - 0.04096i & 0 & 0.02772 + 0.00986i & 0  \\\\\n 0 & 0 & 0 & 0 & 0 & 0 & 0 & 0  \\\\\n 0.06052 - 0.02151i & 0 & 0.01456 + 0.04096i & 0 & 0.67976 & 0 & 0.46008i & 0  \\\\\n 0 & 0 & 0 & 0 & 0 & 0 & 0 & 0  \\\\\n -0.01456 - 0.04096i & 0 & 0.02772 - 0.00986i & 0 & -0.46008i & 0 & 0.31139 & 0  \\\\\n 0 & 0 & 0 & 0 & 0 & 0 & 0 & 0  \\\\\n \\end{bmatrix}\n$$"
     },
     "execution_count": 12,
     "metadata": {},
     "output_type": "execute_result"
    }
   ],
   "source": [
    "theo_matrix.draw('latex')"
   ],
   "metadata": {
    "collapsed": false,
    "pycharm": {
     "name": "#%%\n"
    }
   }
  },
  {
   "cell_type": "code",
   "execution_count": 13,
   "outputs": [
    {
     "name": "stdout",
     "output_type": "stream",
     "text": [
      "Distance:  (0.00221304343431349+0j)\n"
     ]
    }
   ],
   "source": [
    "sum = 0\n",
    "for i, j in zip(range(densitie.dim),range(densitie.dim)):\n",
    "    sum += (densitie.data[i,j] - theo_matrix.data[i,j])**2\n",
    "\n",
    "print(\"Distance: \", sum)"
   ],
   "metadata": {
    "collapsed": false,
    "pycharm": {
     "name": "#%%\n"
    }
   }
  }
 ],
 "metadata": {
  "kernelspec": {
   "display_name": "Python 3",
   "language": "python",
   "name": "python3"
  },
  "language_info": {
   "codemirror_mode": {
    "name": "ipython",
    "version": 2
   },
   "file_extension": ".py",
   "mimetype": "text/x-python",
   "name": "python",
   "nbconvert_exporter": "python",
   "pygments_lexer": "ipython2",
   "version": "2.7.6"
  }
 },
 "nbformat": 4,
 "nbformat_minor": 0
}