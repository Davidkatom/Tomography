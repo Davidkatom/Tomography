{
 "cells": [
  {
   "cell_type": "code",
   "execution_count": 1,
   "metadata": {
    "collapsed": true
   },
   "outputs": [],
   "source": [
    "import matplotlib.pyplot as plt\n",
    "import numpy as np\n",
    "import time\n",
    "\n",
    "import qiskit\n",
    "import qiskit.quantum_info as qi\n",
    "# Tomography functions\n",
    "from qiskit.providers.aer.noise import NoiseModel\n",
    "from qiskit.ignis.verification.tomography import state_tomography_circuits, StateTomographyFitter\n",
    "from qiskit.quantum_info import DensityMatrix\n",
    "\n",
    "from qiskit import *\n",
    "from qiskit import QuantumCircuit, transpile, Aer, IBMQ\n",
    "from qiskit.visualization import *\n",
    "\n",
    "# Loading your IBM Quantum account(s)\n",
    "IBMQ.save_account(\n",
    "    '280beccbee94456a161a6cbc217e1366bc278bf60e22bd30281fa0ca5bec6e50897278ef818f3c53f6700e04b9ed32ea364195044413b7e02836a79d886b03d9',\n",
    "    overwrite=True)\n",
    "IBMQ.load_account()\n",
    "provider = IBMQ.get_provider(hub='ibm-q-research')"
   ]
  },
  {
   "cell_type": "code",
   "execution_count": 3,
   "outputs": [],
   "source": [
    "#Create cat states\n",
    "n = 5\n",
    "vectors = []\n",
    "circuits = []\n",
    "for i in range(2, n + 1):\n",
    "    cir = QuantumCircuit(i)\n",
    "    cir.h(0)\n",
    "    for j in range(0, i - 1):\n",
    "        cir.cx(j, j + 1)\n",
    "    circuits.append(cir)\n",
    "    vectors.append(qi.Statevector.from_instruction(cir))\n",
    "drawings = []\n",
    "for i in range(len(circuits)):\n",
    "    drawings.append(circuits[i].draw(output='mpl'))"
   ],
   "metadata": {
    "collapsed": false,
    "pycharm": {
     "name": "#%%\n"
    }
   }
  },
  {
   "cell_type": "code",
   "execution_count": 4,
   "outputs": [
    {
     "name": "stderr",
     "output_type": "stream",
     "text": [
      "c:\\python-interpreters\\lib\\site-packages\\qiskit\\ignis\\verification\\tomography\\basis\\circuits.py:468: DeprecationWarning: The QuantumCircuit.__iadd__() method is being deprecated. Use the compose() (potentially with the inplace=True argument) and tensor() methods which are more flexible w.r.t circuit register compatibility.\n",
      "  prep += circuit\n",
      "c:\\python-interpreters\\lib\\site-packages\\qiskit\\circuit\\quantumcircuit.py:942: DeprecationWarning: The QuantumCircuit.extend() method is being deprecated. Use the compose() (potentially with the inplace=True argument) and tensor() methods which are more flexible w.r.t circuit register compatibility.\n",
      "  return self.extend(rhs)\n",
      "c:\\python-interpreters\\lib\\site-packages\\qiskit\\ignis\\verification\\tomography\\basis\\circuits.py:478: DeprecationWarning: The QuantumCircuit.__add__() method is being deprecated.Use the compose() method which is more flexible w.r.t circuit register compatibility.\n",
      "  circ = prep + meas\n",
      "c:\\python-interpreters\\lib\\site-packages\\qiskit\\circuit\\quantumcircuit.py:933: DeprecationWarning: The QuantumCircuit.combine() method is being deprecated. Use the compose() method which is more flexible w.r.t circuit register compatibility.\n",
      "  return self.combine(rhs)\n"
     ]
    }
   ],
   "source": [
    "tomo_circuits = []\n",
    "for cir in circuits:\n",
    "    tomo_circuits.append(state_tomography_circuits(cir, cir.qubits));"
   ],
   "metadata": {
    "collapsed": false,
    "pycharm": {
     "name": "#%%\n"
    }
   }
  },
  {
   "cell_type": "code",
   "execution_count": 6,
   "outputs": [],
   "source": [
    "#Simulator\n",
    "name = 'ibm_lagos'\n",
    "results = []\n",
    "backend = provider.get_backend(name)\n",
    "noise_model = NoiseModel.from_backend(backend)\n",
    "full_layout = [0, 1, 3, 5, 4, 2, 6]\n",
    "# Get coupling map from backend\n",
    "coupling_map = backend.configuration().coupling_map\n",
    "\n",
    "# Get basis gates from noise model\n",
    "basis_gates = noise_model.basis_gates\n",
    "qcomp = Aer.get_backend(\"qasm_simulator\")\n",
    "for group in tomo_circuits:\n",
    "    layout = full_layout[:group[0].num_qubits]\n",
    "    results.append(qiskit.execute(group, Aer.get_backend('qasm_simulator'),\n",
    "                                  coupling_map=coupling_map,\n",
    "                                  basis_gates=basis_gates,\n",
    "                                  noise_model=noise_model, initial_layout=layout, shots=8000).result())"
   ],
   "metadata": {
    "collapsed": false,
    "pycharm": {
     "name": "#%%\n"
    }
   }
  },
  {
   "cell_type": "code",
   "execution_count": null,
   "outputs": [
    {
     "name": "stdout",
     "output_type": "stream",
     "text": [
      "Job Status: job is queued (1)     "
     ]
    },
    {
     "name": "stderr",
     "output_type": "stream",
     "text": [
      "ERROR:root:Internal Python error in the inspect module.\n",
      "Below is the traceback from this internal error.\n",
      "\n",
      "ERROR:root:Internal Python error in the inspect module.\n",
      "Below is the traceback from this internal error.\n",
      "\n"
     ]
    },
    {
     "name": "stdout",
     "output_type": "stream",
     "text": [
      "Traceback (most recent call last):\n",
      "  File \"D:\\BarIlan\\Qiskit\\lib\\site-packages\\IPython\\core\\interactiveshell.py\", line 3441, in run_code\n",
      "    exec(code_obj, self.user_global_ns, self.user_ns)\n",
      "  File \"C:\\Users\\david\\AppData\\Local\\Temp/ipykernel_2024/868463500.py\", line 11, in <module>\n",
      "    job_monitor(job)\n",
      "  File \"D:\\BarIlan\\Qiskit\\lib\\site-packages\\qiskit\\tools\\monitor\\job_monitor.py\", line 89, in job_monitor\n",
      "    _text_checker(\n",
      "  File \"D:\\BarIlan\\Qiskit\\lib\\site-packages\\qiskit\\tools\\monitor\\job_monitor.py\", line 45, in _text_checker\n",
      "    status = job.status()\n",
      "  File \"D:\\BarIlan\\Qiskit\\lib\\site-packages\\qiskit\\providers\\ibmq\\job\\ibmqjob.py\", line 502, in status\n",
      "    api_response = self._api_client.job_status(self.job_id())\n",
      "  File \"D:\\BarIlan\\Qiskit\\lib\\site-packages\\qiskit\\providers\\ibmq\\api\\clients\\account.py\", line 332, in job_status\n",
      "    return self.account_api.job(job_id).status()\n",
      "  File \"D:\\BarIlan\\Qiskit\\lib\\site-packages\\qiskit\\providers\\ibmq\\api\\rest\\job.py\", line 160, in status\n",
      "    raw_response = self.session.get(url)\n",
      "  File \"D:\\BarIlan\\Qiskit\\lib\\site-packages\\requests\\sessions.py\", line 555, in get\n",
      "    return self.request('GET', url, **kwargs)\n",
      "  File \"D:\\BarIlan\\Qiskit\\lib\\site-packages\\qiskit\\providers\\ibmq\\api\\session.py\", line 277, in request\n",
      "    response = super().request(method, final_url, headers=headers, **kwargs)\n",
      "  File \"D:\\BarIlan\\Qiskit\\lib\\site-packages\\requests\\sessions.py\", line 542, in request\n",
      "    resp = self.send(prep, **send_kwargs)\n",
      "  File \"D:\\BarIlan\\Qiskit\\lib\\site-packages\\requests\\sessions.py\", line 655, in send\n",
      "    r = adapter.send(request, **kwargs)\n",
      "  File \"D:\\BarIlan\\Qiskit\\lib\\site-packages\\requests\\adapters.py\", line 439, in send\n",
      "    resp = conn.urlopen(\n",
      "  File \"D:\\BarIlan\\Qiskit\\lib\\site-packages\\urllib3\\connectionpool.py\", line 699, in urlopen\n",
      "    httplib_response = self._make_request(\n",
      "  File \"D:\\BarIlan\\Qiskit\\lib\\site-packages\\urllib3\\connectionpool.py\", line 445, in _make_request\n",
      "    six.raise_from(e, None)\n",
      "  File \"<string>\", line 3, in raise_from\n",
      "  File \"D:\\BarIlan\\Qiskit\\lib\\site-packages\\urllib3\\connectionpool.py\", line 440, in _make_request\n",
      "    httplib_response = conn.getresponse()\n",
      "  File \"C:\\Program Files\\WindowsApps\\PythonSoftwareFoundation.Python.3.9_3.9.2032.0_x64__qbz5n2kfra8p0\\lib\\http\\client.py\", line 1371, in getresponse\n",
      "    response.begin()\n",
      "  File \"C:\\Program Files\\WindowsApps\\PythonSoftwareFoundation.Python.3.9_3.9.2032.0_x64__qbz5n2kfra8p0\\lib\\http\\client.py\", line 319, in begin\n",
      "    version, status, reason = self._read_status()\n",
      "  File \"C:\\Program Files\\WindowsApps\\PythonSoftwareFoundation.Python.3.9_3.9.2032.0_x64__qbz5n2kfra8p0\\lib\\http\\client.py\", line 280, in _read_status\n",
      "    line = str(self.fp.readline(_MAXLINE + 1), \"iso-8859-1\")\n",
      "  File \"C:\\Program Files\\WindowsApps\\PythonSoftwareFoundation.Python.3.9_3.9.2032.0_x64__qbz5n2kfra8p0\\lib\\socket.py\", line 704, in readinto\n",
      "    return self._sock.recv_into(b)\n",
      "  File \"C:\\Program Files\\WindowsApps\\PythonSoftwareFoundation.Python.3.9_3.9.2032.0_x64__qbz5n2kfra8p0\\lib\\ssl.py\", line 1241, in recv_into\n",
      "    return self.read(nbytes, buffer)\n",
      "  File \"C:\\Program Files\\WindowsApps\\PythonSoftwareFoundation.Python.3.9_3.9.2032.0_x64__qbz5n2kfra8p0\\lib\\ssl.py\", line 1099, in read\n",
      "    return self._sslobj.read(len, buffer)\n",
      "KeyboardInterrupt\n",
      "\n",
      "During handling of the above exception, another exception occurred:\n",
      "\n",
      "Traceback (most recent call last):\n",
      "  File \"D:\\BarIlan\\Qiskit\\lib\\site-packages\\IPython\\core\\interactiveshell.py\", line 2061, in showtraceback\n",
      "    stb = value._render_traceback_()\n",
      "AttributeError: 'KeyboardInterrupt' object has no attribute '_render_traceback_'\n",
      "\n",
      "During handling of the above exception, another exception occurred:\n",
      "\n",
      "Traceback (most recent call last):\n",
      "  File \"D:\\BarIlan\\Qiskit\\lib\\site-packages\\IPython\\core\\ultratb.py\", line 1101, in get_records\n",
      "    return _fixed_getinnerframes(etb, number_of_lines_of_context, tb_offset)\n",
      "  File \"D:\\BarIlan\\Qiskit\\lib\\site-packages\\IPython\\core\\ultratb.py\", line 248, in wrapped\n",
      "    return f(*args, **kwargs)\n",
      "  File \"D:\\BarIlan\\Qiskit\\lib\\site-packages\\IPython\\core\\ultratb.py\", line 281, in _fixed_getinnerframes\n",
      "    records = fix_frame_records_filenames(inspect.getinnerframes(etb, context))\n",
      "  File \"C:\\Program Files\\WindowsApps\\PythonSoftwareFoundation.Python.3.9_3.9.2032.0_x64__qbz5n2kfra8p0\\lib\\inspect.py\", line 1541, in getinnerframes\n",
      "    frameinfo = (tb.tb_frame,) + getframeinfo(tb, context)\n",
      "  File \"C:\\Program Files\\WindowsApps\\PythonSoftwareFoundation.Python.3.9_3.9.2032.0_x64__qbz5n2kfra8p0\\lib\\inspect.py\", line 1499, in getframeinfo\n",
      "    filename = getsourcefile(frame) or getfile(frame)\n",
      "  File \"C:\\Program Files\\WindowsApps\\PythonSoftwareFoundation.Python.3.9_3.9.2032.0_x64__qbz5n2kfra8p0\\lib\\inspect.py\", line 709, in getsourcefile\n",
      "    if getattr(getmodule(object, filename), '__loader__', None) is not None:\n",
      "  File \"C:\\Program Files\\WindowsApps\\PythonSoftwareFoundation.Python.3.9_3.9.2032.0_x64__qbz5n2kfra8p0\\lib\\inspect.py\", line 755, in getmodule\n",
      "    os.path.realpath(f)] = module.__name__\n",
      "  File \"C:\\Program Files\\WindowsApps\\PythonSoftwareFoundation.Python.3.9_3.9.2032.0_x64__qbz5n2kfra8p0\\lib\\ntpath.py\", line 647, in realpath\n",
      "    path = _getfinalpathname(path)\n",
      "KeyboardInterrupt\n",
      "Traceback (most recent call last):\n",
      "  File \"D:\\BarIlan\\Qiskit\\lib\\site-packages\\IPython\\core\\interactiveshell.py\", line 3441, in run_code\n",
      "    exec(code_obj, self.user_global_ns, self.user_ns)\n",
      "  File \"C:\\Users\\david\\AppData\\Local\\Temp/ipykernel_2024/868463500.py\", line 11, in <module>\n",
      "    job_monitor(job)\n",
      "  File \"D:\\BarIlan\\Qiskit\\lib\\site-packages\\qiskit\\tools\\monitor\\job_monitor.py\", line 89, in job_monitor\n",
      "    _text_checker(\n",
      "  File \"D:\\BarIlan\\Qiskit\\lib\\site-packages\\qiskit\\tools\\monitor\\job_monitor.py\", line 45, in _text_checker\n",
      "    status = job.status()\n",
      "  File \"D:\\BarIlan\\Qiskit\\lib\\site-packages\\qiskit\\providers\\ibmq\\job\\ibmqjob.py\", line 502, in status\n",
      "    api_response = self._api_client.job_status(self.job_id())\n",
      "  File \"D:\\BarIlan\\Qiskit\\lib\\site-packages\\qiskit\\providers\\ibmq\\api\\clients\\account.py\", line 332, in job_status\n",
      "    return self.account_api.job(job_id).status()\n",
      "  File \"D:\\BarIlan\\Qiskit\\lib\\site-packages\\qiskit\\providers\\ibmq\\api\\rest\\job.py\", line 160, in status\n",
      "    raw_response = self.session.get(url)\n",
      "  File \"D:\\BarIlan\\Qiskit\\lib\\site-packages\\requests\\sessions.py\", line 555, in get\n",
      "    return self.request('GET', url, **kwargs)\n",
      "  File \"D:\\BarIlan\\Qiskit\\lib\\site-packages\\qiskit\\providers\\ibmq\\api\\session.py\", line 277, in request\n",
      "    response = super().request(method, final_url, headers=headers, **kwargs)\n",
      "  File \"D:\\BarIlan\\Qiskit\\lib\\site-packages\\requests\\sessions.py\", line 542, in request\n",
      "    resp = self.send(prep, **send_kwargs)\n",
      "  File \"D:\\BarIlan\\Qiskit\\lib\\site-packages\\requests\\sessions.py\", line 655, in send\n",
      "    r = adapter.send(request, **kwargs)\n",
      "  File \"D:\\BarIlan\\Qiskit\\lib\\site-packages\\requests\\adapters.py\", line 439, in send\n",
      "    resp = conn.urlopen(\n",
      "  File \"D:\\BarIlan\\Qiskit\\lib\\site-packages\\urllib3\\connectionpool.py\", line 699, in urlopen\n",
      "    httplib_response = self._make_request(\n",
      "  File \"D:\\BarIlan\\Qiskit\\lib\\site-packages\\urllib3\\connectionpool.py\", line 445, in _make_request\n",
      "    six.raise_from(e, None)\n",
      "  File \"<string>\", line 3, in raise_from\n",
      "  File \"D:\\BarIlan\\Qiskit\\lib\\site-packages\\urllib3\\connectionpool.py\", line 440, in _make_request\n",
      "    httplib_response = conn.getresponse()\n",
      "  File \"C:\\Program Files\\WindowsApps\\PythonSoftwareFoundation.Python.3.9_3.9.2032.0_x64__qbz5n2kfra8p0\\lib\\http\\client.py\", line 1371, in getresponse\n",
      "    response.begin()\n",
      "  File \"C:\\Program Files\\WindowsApps\\PythonSoftwareFoundation.Python.3.9_3.9.2032.0_x64__qbz5n2kfra8p0\\lib\\http\\client.py\", line 319, in begin\n",
      "    version, status, reason = self._read_status()\n",
      "  File \"C:\\Program Files\\WindowsApps\\PythonSoftwareFoundation.Python.3.9_3.9.2032.0_x64__qbz5n2kfra8p0\\lib\\http\\client.py\", line 280, in _read_status\n",
      "    line = str(self.fp.readline(_MAXLINE + 1), \"iso-8859-1\")\n",
      "  File \"C:\\Program Files\\WindowsApps\\PythonSoftwareFoundation.Python.3.9_3.9.2032.0_x64__qbz5n2kfra8p0\\lib\\socket.py\", line 704, in readinto\n",
      "    return self._sock.recv_into(b)\n",
      "  File \"C:\\Program Files\\WindowsApps\\PythonSoftwareFoundation.Python.3.9_3.9.2032.0_x64__qbz5n2kfra8p0\\lib\\ssl.py\", line 1241, in recv_into\n",
      "    return self.read(nbytes, buffer)\n",
      "  File \"C:\\Program Files\\WindowsApps\\PythonSoftwareFoundation.Python.3.9_3.9.2032.0_x64__qbz5n2kfra8p0\\lib\\ssl.py\", line 1099, in read\n",
      "    return self._sslobj.read(len, buffer)\n",
      "KeyboardInterrupt\n",
      "\n",
      "During handling of the above exception, another exception occurred:\n",
      "\n",
      "Traceback (most recent call last):\n",
      "  File \"D:\\BarIlan\\Qiskit\\lib\\site-packages\\IPython\\core\\interactiveshell.py\", line 2061, in showtraceback\n",
      "    stb = value._render_traceback_()\n",
      "AttributeError: 'KeyboardInterrupt' object has no attribute '_render_traceback_'\n",
      "\n",
      "During handling of the above exception, another exception occurred:\n",
      "\n",
      "Traceback (most recent call last):\n",
      "  File \"D:\\BarIlan\\Qiskit\\lib\\site-packages\\IPython\\core\\interactiveshell.py\", line 3361, in run_ast_nodes\n",
      "    if (await self.run_code(code, result,  async_=asy)):\n",
      "  File \"D:\\BarIlan\\Qiskit\\lib\\site-packages\\IPython\\core\\interactiveshell.py\", line 3458, in run_code\n",
      "    self.showtraceback(running_compiled_code=True)\n",
      "  File \"D:\\BarIlan\\Qiskit\\lib\\site-packages\\IPython\\core\\interactiveshell.py\", line 2063, in showtraceback\n",
      "    stb = self.InteractiveTB.structured_traceback(etype,\n",
      "  File \"D:\\BarIlan\\Qiskit\\lib\\site-packages\\IPython\\core\\ultratb.py\", line 1367, in structured_traceback\n",
      "    return FormattedTB.structured_traceback(\n",
      "  File \"D:\\BarIlan\\Qiskit\\lib\\site-packages\\IPython\\core\\ultratb.py\", line 1267, in structured_traceback\n",
      "    return VerboseTB.structured_traceback(\n",
      "  File \"D:\\BarIlan\\Qiskit\\lib\\site-packages\\IPython\\core\\ultratb.py\", line 1124, in structured_traceback\n",
      "    formatted_exception = self.format_exception_as_a_whole(etype, evalue, etb, number_of_lines_of_context,\n",
      "  File \"D:\\BarIlan\\Qiskit\\lib\\site-packages\\IPython\\core\\ultratb.py\", line 1082, in format_exception_as_a_whole\n",
      "    last_unique, recursion_repeat = find_recursion(orig_etype, evalue, records)\n",
      "  File \"D:\\BarIlan\\Qiskit\\lib\\site-packages\\IPython\\core\\ultratb.py\", line 382, in find_recursion\n",
      "    return len(records), 0\n",
      "TypeError: object of type 'NoneType' has no len()\n",
      "\n",
      "During handling of the above exception, another exception occurred:\n",
      "\n",
      "Traceback (most recent call last):\n",
      "  File \"D:\\BarIlan\\Qiskit\\lib\\site-packages\\IPython\\core\\interactiveshell.py\", line 2061, in showtraceback\n",
      "    stb = value._render_traceback_()\n",
      "AttributeError: 'TypeError' object has no attribute '_render_traceback_'\n",
      "\n",
      "During handling of the above exception, another exception occurred:\n",
      "\n",
      "Traceback (most recent call last):\n",
      "  File \"D:\\BarIlan\\Qiskit\\lib\\site-packages\\IPython\\core\\ultratb.py\", line 1101, in get_records\n",
      "    return _fixed_getinnerframes(etb, number_of_lines_of_context, tb_offset)\n",
      "  File \"D:\\BarIlan\\Qiskit\\lib\\site-packages\\IPython\\core\\ultratb.py\", line 248, in wrapped\n",
      "    return f(*args, **kwargs)\n",
      "  File \"D:\\BarIlan\\Qiskit\\lib\\site-packages\\IPython\\core\\ultratb.py\", line 281, in _fixed_getinnerframes\n",
      "    records = fix_frame_records_filenames(inspect.getinnerframes(etb, context))\n",
      "  File \"C:\\Program Files\\WindowsApps\\PythonSoftwareFoundation.Python.3.9_3.9.2032.0_x64__qbz5n2kfra8p0\\lib\\inspect.py\", line 1541, in getinnerframes\n",
      "    frameinfo = (tb.tb_frame,) + getframeinfo(tb, context)\n",
      "  File \"C:\\Program Files\\WindowsApps\\PythonSoftwareFoundation.Python.3.9_3.9.2032.0_x64__qbz5n2kfra8p0\\lib\\inspect.py\", line 1499, in getframeinfo\n",
      "    filename = getsourcefile(frame) or getfile(frame)\n",
      "  File \"C:\\Program Files\\WindowsApps\\PythonSoftwareFoundation.Python.3.9_3.9.2032.0_x64__qbz5n2kfra8p0\\lib\\inspect.py\", line 709, in getsourcefile\n",
      "    if getattr(getmodule(object, filename), '__loader__', None) is not None:\n",
      "  File \"C:\\Program Files\\WindowsApps\\PythonSoftwareFoundation.Python.3.9_3.9.2032.0_x64__qbz5n2kfra8p0\\lib\\inspect.py\", line 752, in getmodule\n",
      "    f = getabsfile(module)\n",
      "  File \"C:\\Program Files\\WindowsApps\\PythonSoftwareFoundation.Python.3.9_3.9.2032.0_x64__qbz5n2kfra8p0\\lib\\inspect.py\", line 721, in getabsfile\n",
      "    _filename = getsourcefile(object) or getfile(object)\n",
      "  File \"C:\\Program Files\\WindowsApps\\PythonSoftwareFoundation.Python.3.9_3.9.2032.0_x64__qbz5n2kfra8p0\\lib\\inspect.py\", line 706, in getsourcefile\n",
      "    if os.path.exists(filename):\n",
      "  File \"C:\\Program Files\\WindowsApps\\PythonSoftwareFoundation.Python.3.9_3.9.2032.0_x64__qbz5n2kfra8p0\\lib\\genericpath.py\", line 19, in exists\n",
      "    os.stat(path)\n",
      "KeyboardInterrupt\n"
     ]
    },
    {
     "name": "stderr",
     "output_type": "stream",
     "text": [
      "ERROR:root:Internal Python error in the inspect module.\n",
      "Below is the traceback from this internal error.\n",
      "\n"
     ]
    },
    {
     "name": "stdout",
     "output_type": "stream",
     "text": [
      "Traceback (most recent call last):\n",
      "  File \"D:\\BarIlan\\Qiskit\\lib\\site-packages\\IPython\\core\\interactiveshell.py\", line 3441, in run_code\n",
      "    exec(code_obj, self.user_global_ns, self.user_ns)\n",
      "  File \"C:\\Users\\david\\AppData\\Local\\Temp/ipykernel_2024/868463500.py\", line 11, in <module>\n",
      "    job_monitor(job)\n",
      "  File \"D:\\BarIlan\\Qiskit\\lib\\site-packages\\qiskit\\tools\\monitor\\job_monitor.py\", line 89, in job_monitor\n",
      "    _text_checker(\n",
      "  File \"D:\\BarIlan\\Qiskit\\lib\\site-packages\\qiskit\\tools\\monitor\\job_monitor.py\", line 45, in _text_checker\n",
      "    status = job.status()\n",
      "  File \"D:\\BarIlan\\Qiskit\\lib\\site-packages\\qiskit\\providers\\ibmq\\job\\ibmqjob.py\", line 502, in status\n",
      "    api_response = self._api_client.job_status(self.job_id())\n",
      "  File \"D:\\BarIlan\\Qiskit\\lib\\site-packages\\qiskit\\providers\\ibmq\\api\\clients\\account.py\", line 332, in job_status\n",
      "    return self.account_api.job(job_id).status()\n",
      "  File \"D:\\BarIlan\\Qiskit\\lib\\site-packages\\qiskit\\providers\\ibmq\\api\\rest\\job.py\", line 160, in status\n",
      "    raw_response = self.session.get(url)\n",
      "  File \"D:\\BarIlan\\Qiskit\\lib\\site-packages\\requests\\sessions.py\", line 555, in get\n",
      "    return self.request('GET', url, **kwargs)\n",
      "  File \"D:\\BarIlan\\Qiskit\\lib\\site-packages\\qiskit\\providers\\ibmq\\api\\session.py\", line 277, in request\n",
      "    response = super().request(method, final_url, headers=headers, **kwargs)\n",
      "  File \"D:\\BarIlan\\Qiskit\\lib\\site-packages\\requests\\sessions.py\", line 542, in request\n",
      "    resp = self.send(prep, **send_kwargs)\n",
      "  File \"D:\\BarIlan\\Qiskit\\lib\\site-packages\\requests\\sessions.py\", line 655, in send\n",
      "    r = adapter.send(request, **kwargs)\n",
      "  File \"D:\\BarIlan\\Qiskit\\lib\\site-packages\\requests\\adapters.py\", line 439, in send\n",
      "    resp = conn.urlopen(\n",
      "  File \"D:\\BarIlan\\Qiskit\\lib\\site-packages\\urllib3\\connectionpool.py\", line 699, in urlopen\n",
      "    httplib_response = self._make_request(\n",
      "  File \"D:\\BarIlan\\Qiskit\\lib\\site-packages\\urllib3\\connectionpool.py\", line 445, in _make_request\n",
      "    six.raise_from(e, None)\n",
      "  File \"<string>\", line 3, in raise_from\n",
      "  File \"D:\\BarIlan\\Qiskit\\lib\\site-packages\\urllib3\\connectionpool.py\", line 440, in _make_request\n",
      "    httplib_response = conn.getresponse()\n",
      "  File \"C:\\Program Files\\WindowsApps\\PythonSoftwareFoundation.Python.3.9_3.9.2032.0_x64__qbz5n2kfra8p0\\lib\\http\\client.py\", line 1371, in getresponse\n",
      "    response.begin()\n",
      "  File \"C:\\Program Files\\WindowsApps\\PythonSoftwareFoundation.Python.3.9_3.9.2032.0_x64__qbz5n2kfra8p0\\lib\\http\\client.py\", line 319, in begin\n",
      "    version, status, reason = self._read_status()\n",
      "  File \"C:\\Program Files\\WindowsApps\\PythonSoftwareFoundation.Python.3.9_3.9.2032.0_x64__qbz5n2kfra8p0\\lib\\http\\client.py\", line 280, in _read_status\n",
      "    line = str(self.fp.readline(_MAXLINE + 1), \"iso-8859-1\")\n",
      "  File \"C:\\Program Files\\WindowsApps\\PythonSoftwareFoundation.Python.3.9_3.9.2032.0_x64__qbz5n2kfra8p0\\lib\\socket.py\", line 704, in readinto\n",
      "    return self._sock.recv_into(b)\n",
      "  File \"C:\\Program Files\\WindowsApps\\PythonSoftwareFoundation.Python.3.9_3.9.2032.0_x64__qbz5n2kfra8p0\\lib\\ssl.py\", line 1241, in recv_into\n",
      "    return self.read(nbytes, buffer)\n",
      "  File \"C:\\Program Files\\WindowsApps\\PythonSoftwareFoundation.Python.3.9_3.9.2032.0_x64__qbz5n2kfra8p0\\lib\\ssl.py\", line 1099, in read\n",
      "    return self._sslobj.read(len, buffer)\n",
      "KeyboardInterrupt\n",
      "\n",
      "During handling of the above exception, another exception occurred:\n",
      "\n",
      "Traceback (most recent call last):\n",
      "  File \"D:\\BarIlan\\Qiskit\\lib\\site-packages\\IPython\\core\\interactiveshell.py\", line 2061, in showtraceback\n",
      "    stb = value._render_traceback_()\n",
      "AttributeError: 'KeyboardInterrupt' object has no attribute '_render_traceback_'\n",
      "\n",
      "During handling of the above exception, another exception occurred:\n",
      "\n",
      "Traceback (most recent call last):\n",
      "  File \"D:\\BarIlan\\Qiskit\\lib\\site-packages\\IPython\\core\\interactiveshell.py\", line 3361, in run_ast_nodes\n",
      "    if (await self.run_code(code, result,  async_=asy)):\n",
      "  File \"D:\\BarIlan\\Qiskit\\lib\\site-packages\\IPython\\core\\interactiveshell.py\", line 3458, in run_code\n",
      "    self.showtraceback(running_compiled_code=True)\n",
      "  File \"D:\\BarIlan\\Qiskit\\lib\\site-packages\\IPython\\core\\interactiveshell.py\", line 2063, in showtraceback\n",
      "    stb = self.InteractiveTB.structured_traceback(etype,\n",
      "  File \"D:\\BarIlan\\Qiskit\\lib\\site-packages\\IPython\\core\\ultratb.py\", line 1367, in structured_traceback\n",
      "    return FormattedTB.structured_traceback(\n",
      "  File \"D:\\BarIlan\\Qiskit\\lib\\site-packages\\IPython\\core\\ultratb.py\", line 1267, in structured_traceback\n",
      "    return VerboseTB.structured_traceback(\n",
      "  File \"D:\\BarIlan\\Qiskit\\lib\\site-packages\\IPython\\core\\ultratb.py\", line 1124, in structured_traceback\n",
      "    formatted_exception = self.format_exception_as_a_whole(etype, evalue, etb, number_of_lines_of_context,\n",
      "  File \"D:\\BarIlan\\Qiskit\\lib\\site-packages\\IPython\\core\\ultratb.py\", line 1082, in format_exception_as_a_whole\n",
      "    last_unique, recursion_repeat = find_recursion(orig_etype, evalue, records)\n",
      "  File \"D:\\BarIlan\\Qiskit\\lib\\site-packages\\IPython\\core\\ultratb.py\", line 382, in find_recursion\n",
      "    return len(records), 0\n",
      "TypeError: object of type 'NoneType' has no len()\n",
      "\n",
      "During handling of the above exception, another exception occurred:\n",
      "\n",
      "Traceback (most recent call last):\n",
      "  File \"D:\\BarIlan\\Qiskit\\lib\\site-packages\\IPython\\core\\interactiveshell.py\", line 2061, in showtraceback\n",
      "    stb = value._render_traceback_()\n",
      "AttributeError: 'TypeError' object has no attribute '_render_traceback_'\n",
      "\n",
      "During handling of the above exception, another exception occurred:\n",
      "\n",
      "Traceback (most recent call last):\n",
      "  File \"D:\\BarIlan\\Qiskit\\lib\\site-packages\\IPython\\core\\interactiveshell.py\", line 2944, in _run_cell\n",
      "    return runner(coro)\n",
      "  File \"D:\\BarIlan\\Qiskit\\lib\\site-packages\\IPython\\core\\async_helpers.py\", line 68, in _pseudo_sync_runner\n",
      "    coro.send(None)\n",
      "  File \"D:\\BarIlan\\Qiskit\\lib\\site-packages\\IPython\\core\\interactiveshell.py\", line 3169, in run_cell_async\n",
      "    has_raised = await self.run_ast_nodes(code_ast.body, cell_name,\n",
      "  File \"D:\\BarIlan\\Qiskit\\lib\\site-packages\\IPython\\core\\interactiveshell.py\", line 3380, in run_ast_nodes\n",
      "    self.showtraceback()\n",
      "  File \"D:\\BarIlan\\Qiskit\\lib\\site-packages\\IPython\\core\\interactiveshell.py\", line 2063, in showtraceback\n",
      "    stb = self.InteractiveTB.structured_traceback(etype,\n",
      "  File \"D:\\BarIlan\\Qiskit\\lib\\site-packages\\IPython\\core\\ultratb.py\", line 1367, in structured_traceback\n",
      "    return FormattedTB.structured_traceback(\n",
      "  File \"D:\\BarIlan\\Qiskit\\lib\\site-packages\\IPython\\core\\ultratb.py\", line 1267, in structured_traceback\n",
      "    return VerboseTB.structured_traceback(\n",
      "  File \"D:\\BarIlan\\Qiskit\\lib\\site-packages\\IPython\\core\\ultratb.py\", line 1142, in structured_traceback\n",
      "    formatted_exceptions += self.format_exception_as_a_whole(etype, evalue, etb, lines_of_context,\n",
      "  File \"D:\\BarIlan\\Qiskit\\lib\\site-packages\\IPython\\core\\ultratb.py\", line 1082, in format_exception_as_a_whole\n",
      "    last_unique, recursion_repeat = find_recursion(orig_etype, evalue, records)\n",
      "  File \"D:\\BarIlan\\Qiskit\\lib\\site-packages\\IPython\\core\\ultratb.py\", line 382, in find_recursion\n",
      "    return len(records), 0\n",
      "TypeError: object of type 'NoneType' has no len()\n",
      "\n",
      "During handling of the above exception, another exception occurred:\n",
      "\n",
      "Traceback (most recent call last):\n",
      "  File \"D:\\BarIlan\\Qiskit\\lib\\site-packages\\IPython\\core\\interactiveshell.py\", line 2061, in showtraceback\n",
      "    stb = value._render_traceback_()\n",
      "AttributeError: 'TypeError' object has no attribute '_render_traceback_'\n",
      "\n",
      "During handling of the above exception, another exception occurred:\n",
      "\n",
      "Traceback (most recent call last):\n",
      "  File \"D:\\BarIlan\\Qiskit\\lib\\site-packages\\IPython\\core\\ultratb.py\", line 1101, in get_records\n",
      "    return _fixed_getinnerframes(etb, number_of_lines_of_context, tb_offset)\n",
      "  File \"D:\\BarIlan\\Qiskit\\lib\\site-packages\\IPython\\core\\ultratb.py\", line 248, in wrapped\n",
      "    return f(*args, **kwargs)\n",
      "  File \"D:\\BarIlan\\Qiskit\\lib\\site-packages\\IPython\\core\\ultratb.py\", line 281, in _fixed_getinnerframes\n",
      "    records = fix_frame_records_filenames(inspect.getinnerframes(etb, context))\n",
      "  File \"C:\\Program Files\\WindowsApps\\PythonSoftwareFoundation.Python.3.9_3.9.2032.0_x64__qbz5n2kfra8p0\\lib\\inspect.py\", line 1541, in getinnerframes\n",
      "    frameinfo = (tb.tb_frame,) + getframeinfo(tb, context)\n",
      "  File \"C:\\Program Files\\WindowsApps\\PythonSoftwareFoundation.Python.3.9_3.9.2032.0_x64__qbz5n2kfra8p0\\lib\\inspect.py\", line 1499, in getframeinfo\n",
      "    filename = getsourcefile(frame) or getfile(frame)\n",
      "  File \"C:\\Program Files\\WindowsApps\\PythonSoftwareFoundation.Python.3.9_3.9.2032.0_x64__qbz5n2kfra8p0\\lib\\inspect.py\", line 709, in getsourcefile\n",
      "    if getattr(getmodule(object, filename), '__loader__', None) is not None:\n",
      "  File \"C:\\Program Files\\WindowsApps\\PythonSoftwareFoundation.Python.3.9_3.9.2032.0_x64__qbz5n2kfra8p0\\lib\\inspect.py\", line 752, in getmodule\n",
      "    f = getabsfile(module)\n",
      "  File \"C:\\Program Files\\WindowsApps\\PythonSoftwareFoundation.Python.3.9_3.9.2032.0_x64__qbz5n2kfra8p0\\lib\\inspect.py\", line 721, in getabsfile\n",
      "    _filename = getsourcefile(object) or getfile(object)\n",
      "  File \"C:\\Program Files\\WindowsApps\\PythonSoftwareFoundation.Python.3.9_3.9.2032.0_x64__qbz5n2kfra8p0\\lib\\inspect.py\", line 706, in getsourcefile\n",
      "    if os.path.exists(filename):\n",
      "  File \"C:\\Program Files\\WindowsApps\\PythonSoftwareFoundation.Python.3.9_3.9.2032.0_x64__qbz5n2kfra8p0\\lib\\genericpath.py\", line 19, in exists\n",
      "    os.stat(path)\n",
      "KeyboardInterrupt\n"
     ]
    }
   ],
   "source": [
    "#Real\n",
    "from qiskit.tools import job_monitor\n",
    "import utility\n",
    "name = 'ibm_lagos'\n",
    "results = []\n",
    "backend = provider.get_backend(name)\n",
    "full_layout = [0,1,3,5,4,2,6]\n",
    "for group in tomo_circuits:\n",
    "    layout = full_layout[:group[0].num_qubits]\n",
    "    job = qiskit.execute(group, backend,initial_layout=layout,shots=8000)\n",
    "    job_monitor(job)\n",
    "    utility.save_job(job,\"Jakarta_fidelity_to_qubits_withMap_(3)\")\n",
    "    results.append(job.result())\n",
    "\n"
   ],
   "metadata": {
    "collapsed": false,
    "pycharm": {
     "name": "#%%\n"
    }
   }
  },
  {
   "cell_type": "code",
   "execution_count": 19,
   "outputs": [
    {
     "name": "stdout",
     "output_type": "stream",
     "text": [
      "Retrieved from memory\n",
      "Retrieved from memory\n",
      "Retrieved from memory\n",
      "Retrieved from memory\n"
     ]
    }
   ],
   "source": [
    "#Retriev\n",
    "#Retrive results:\n",
    "import utility\n",
    "results = [utility.retrieve(\"Jakarta_fidelity_to_qubits_withMap_2\").result(),\n",
    "           utility.retrieve(\"Jakarta_fidelity_to_qubits_withMap_20\").result(),\n",
    "           utility.retrieve(\"Jakarta_fidelity_to_qubits_withMap_21\").result(),\n",
    "           utility.retrieve(\"Jakarta_fidelity_to_qubits_withMap_22\").result()]\n"
   ],
   "metadata": {
    "collapsed": false,
    "pycharm": {
     "name": "#%%\n"
    }
   }
  },
  {
   "cell_type": "code",
   "execution_count": 7,
   "outputs": [
    {
     "name": "stderr",
     "output_type": "stream",
     "text": [
      "c:\\python-interpreters\\lib\\site-packages\\qiskit\\aqua\\__init__.py:86: DeprecationWarning: The package qiskit.aqua is deprecated. It was moved/refactored to qiskit-terra For more information see <https://github.com/Qiskit/qiskit-aqua/blob/main/README.md#migration-guide>\n",
      "  warn_package('aqua', 'qiskit-terra')\n"
     ]
    },
    {
     "name": "stdout",
     "output_type": "stream",
     "text": [
      "{2: 0.8924937200959103, 3: 0.8497480538390719, 4: 0.8022976740034872, 5: 0.7513375631767482}\n"
     ]
    }
   ],
   "source": [
    "from Tomography import tomography\n",
    "densities = []\n",
    "fidelities = {}\n",
    "purities = {}\n",
    "for i in range(len(results)):\n",
    "    tomo_fitter_bell = StateTomographyFitter(results[i], tomo_circuits[i]).fit(method='lstsq')\n",
    "    densities.append(DensityMatrix(tomo_fitter_bell))\n",
    "    temp_dict = {i + 2: (tomography.calc_fidelity(DensityMatrix(tomo_fitter_bell), vectors[i]))}\n",
    "    temp_dict_pure = {i + 2: (tomography.calc_purity(DensityMatrix(tomo_fitter_bell)))}\n",
    "    fidelities.update(temp_dict)\n",
    "    purities.update(temp_dict_pure)\n",
    "print(fidelities)\n"
   ],
   "metadata": {
    "collapsed": false,
    "pycharm": {
     "name": "#%%\n"
    }
   }
  },
  {
   "cell_type": "code",
   "execution_count": 10,
   "outputs": [
    {
     "name": "stdout",
     "output_type": "stream",
     "text": [
      " \n",
      "-0.04709 x + 0.9888\n",
      " \n",
      "(-0.0464 + -3.098e-21j) x + (0.9885 + 1.211e-20j)\n"
     ]
    },
    {
     "name": "stderr",
     "output_type": "stream",
     "text": [
      "c:\\python-interpreters\\lib\\site-packages\\matplotlib\\collections.py:206: ComplexWarning: Casting complex values to real discards the imaginary part\n",
      "  offsets = np.asanyarray(offsets, float)\n",
      "c:\\python-interpreters\\lib\\site-packages\\matplotlib\\cbook\\__init__.py:1333: ComplexWarning: Casting complex values to real discards the imaginary part\n",
      "  return np.asarray(x, float)\n"
     ]
    },
    {
     "data": {
      "text/plain": "<Figure size 432x288 with 1 Axes>",
      "image/png": "[encoded data removed]"
     },
     "metadata": {
      "needs_background": "light"
     },
     "output_type": "display_data"
    }
   ],
   "source": [
    "#Draw\n",
    "plt.scatter(fidelities.keys(), fidelities.values())\n",
    "plt.scatter(purities.keys(), purities.values())\n",
    "plt.axis([1, 6, 0, 1])\n",
    "plt.ylabel('Fidelity')\n",
    "plt.xlabel('num of qubits')\n",
    "plt.legend([\"Fidelity\", \"Purity\"])\n",
    "plt.grid(True)\n",
    "\n",
    "x = np.linspace(2, 6, 50, False)\n",
    "poly_f = np.polyfit(list(fidelities.keys()), list(fidelities.values()),1)\n",
    "poly_p = np.polyfit(list(purities.keys()), list(purities.values()),1)\n",
    "trendpoly_f = np.poly1d(poly_f)\n",
    "trendpoly_p = np.poly1d(poly_p)\n",
    "print(trendpoly_f)\n",
    "print(trendpoly_p)\n",
    "plt.plot(x,trendpoly_f(x),':')\n",
    "plt.plot(x,trendpoly_p(x),':')\n",
    "#plt.plot(fidelities)\n",
    "plt.show()"
   ],
   "metadata": {
    "collapsed": false,
    "pycharm": {
     "name": "#%%\n"
    }
   }
  },
  {
   "cell_type": "code",
   "execution_count": 16,
   "outputs": [
    {
     "data": {
      "text/plain": "<Figure size 1440x360 with 1 Axes>",
      "image/png": "[encoded data removed]"
     },
     "execution_count": 16,
     "metadata": {},
     "output_type": "execute_result"
    }
   ],
   "source": [
    "plot_histogram(results[0].get_counts(), figsize=(20,5))\n"
   ],
   "metadata": {
    "collapsed": false,
    "pycharm": {
     "name": "#%%\n"
    }
   }
  }
 ],
 "metadata": {
  "kernelspec": {
   "display_name": "Python 3",
   "language": "python",
   "name": "python3"
  },
  "language_info": {
   "codemirror_mode": {
    "name": "ipython",
    "version": 2
   },
   "file_extension": ".py",
   "mimetype": "text/x-python",
   "name": "python",
   "nbconvert_exporter": "python",
   "pygments_lexer": "ipython2",
   "version": "2.7.6"
  }
 },
 "nbformat": 4,
 "nbformat_minor": 0
}